{
  "nbformat": 4,
  "nbformat_minor": 0,
  "metadata": {
    "colab": {
      "provenance": [],
      "collapsed_sections": [
        "kNKYIeerx0nY",
        "ruZREYdi2o4O",
        "R7az-6DA6qr2"
      ]
    },
    "kernelspec": {
      "name": "python3",
      "display_name": "Python 3"
    }
  },
  "cells": [
    {
      "cell_type": "markdown",
      "metadata": {
        "id": "82OvPKEiEqjc"
      },
      "source": [
        "# Введение в MapReduce модель на Python\n"
      ]
    },
    {
      "cell_type": "code",
      "metadata": {
        "id": "JQ2cvXLjICmI"
      },
      "source": [
        "from typing import NamedTuple # requires python 3.6+\n",
        "from typing import Iterator"
      ],
      "execution_count": null,
      "outputs": []
    },
    {
      "cell_type": "code",
      "metadata": {
        "id": "yjPHumVwEyEg"
      },
      "source": [
        "# MAP выполняет преобразование и фильтрацию данных, а REDUCE выполняет агрегацию и анализ этих данных.\n",
        "def MAP(_, row:NamedTuple):\n",
        "  #для каждого объекта row с женским полом, создается ключ (возраст) и соответствующий ему объект row.\n",
        "  if (row.gender == 'female'):\n",
        "    yield (row.age, row)\n",
        "\n",
        "def REDUCE(age:str, rows:Iterator[NamedTuple]):\n",
        "  sum = 0\n",
        "  count = 0\n",
        "  for row in rows:\n",
        "    sum += row.social_contacts\n",
        "    count += 1\n",
        "  if (count > 0):\n",
        "    yield (age, sum/count)\n",
        "  else:\n",
        "    yield (age, 0)"
      ],
      "execution_count": null,
      "outputs": []
    },
    {
      "cell_type": "markdown",
      "metadata": {
        "id": "vBKMgpG_ilaZ"
      },
      "source": [
        "Модель элемента данных"
      ]
    },
    {
      "cell_type": "code",
      "metadata": {
        "id": "Rv-XIjhTJPx3"
      },
      "source": [
        "class User(NamedTuple):\n",
        "  id: int\n",
        "  age: str\n",
        "  social_contacts: int\n",
        "  gender: str"
      ],
      "execution_count": null,
      "outputs": []
    },
    {
      "cell_type": "code",
      "metadata": {
        "id": "5KV0Ze2vQgu5"
      },
      "source": [
        "input_collection = [\n",
        "    User(id=0, age=55, gender='male', social_contacts=20),\n",
        "    User(id=1, age=25, gender='female', social_contacts=240),\n",
        "    User(id=2, age=25, gender='female', social_contacts=500),\n",
        "    User(id=3, age=33, gender='female', social_contacts=800)\n",
        "]"
      ],
      "execution_count": null,
      "outputs": []
    },
    {
      "cell_type": "markdown",
      "metadata": {
        "id": "YFeqzyZxZIFZ"
      },
      "source": [
        "Функция RECORDREADER моделирует чтение элементов с диска или по сети."
      ]
    },
    {
      "cell_type": "code",
      "metadata": {
        "id": "S5HR4E_GQoMJ"
      },
      "source": [
        "def RECORDREADER():\n",
        "  return [(u.id, u) for u in input_collection]"
      ],
      "execution_count": null,
      "outputs": []
    },
    {
      "cell_type": "code",
      "metadata": {
        "id": "NeEoWla-ROUy",
        "colab": {
          "base_uri": "https://localhost:8080/"
        },
        "outputId": "6d7de303-c194-4e9f-f862-dab46574eb48"
      },
      "source": [
        "list(RECORDREADER())"
      ],
      "execution_count": null,
      "outputs": [
        {
          "output_type": "execute_result",
          "data": {
            "text/plain": [
              "[(0, User(id=0, age=55, social_contacts=20, gender='male')),\n",
              " (1, User(id=1, age=25, social_contacts=240, gender='female')),\n",
              " (2, User(id=2, age=25, social_contacts=500, gender='female')),\n",
              " (3, User(id=3, age=33, social_contacts=800, gender='female'))]"
            ]
          },
          "metadata": {},
          "execution_count": 190
        }
      ]
    },
    {
      "cell_type": "code",
      "metadata": {
        "id": "YB8orgPSZs8M"
      },
      "source": [
        "def flatten(nested_iterable):\n",
        "  for iterable in nested_iterable:\n",
        "    for element in iterable:\n",
        "      yield element"
      ],
      "execution_count": null,
      "outputs": []
    },
    {
      "cell_type": "code",
      "metadata": {
        "id": "74oyvDLaRmd5",
        "colab": {
          "base_uri": "https://localhost:8080/"
        },
        "outputId": "7d9637f1-770c-46ee-d088-4da314a2c7a1"
      },
      "source": [
        "#применение функции MAP к каждому элементу результата RECORDREADER() с помощью lambda-функции\n",
        "map_output = flatten(map(lambda x: MAP(*x), RECORDREADER()))\n",
        "map_output = list(map_output) # materialize\n",
        "map_output"
      ],
      "execution_count": null,
      "outputs": [
        {
          "output_type": "execute_result",
          "data": {
            "text/plain": [
              "[(25, User(id=1, age=25, social_contacts=240, gender='female')),\n",
              " (25, User(id=2, age=25, social_contacts=500, gender='female')),\n",
              " (33, User(id=3, age=33, social_contacts=800, gender='female'))]"
            ]
          },
          "metadata": {},
          "execution_count": 192
        }
      ]
    },
    {
      "cell_type": "code",
      "metadata": {
        "id": "8ncYDJ3-VzDn"
      },
      "source": [
        "#группировка элементов по ключу входного итерируемого объекта\n",
        "def groupbykey(iterable):\n",
        "  #Для каждого элемента, функция проверяет, существует ли уже ключ k2 в словаре t, используя метод get.\n",
        "  #Если ключ уже существует, то к соответствующему значению добавляется новое значение v2.\n",
        "  #Если ключ не существует, то создается новая запись в словаре t с ключом k2 и значением [v2] в виде списка.\n",
        "  t = {}\n",
        "  for (k2, v2) in iterable:\n",
        "    t[k2] = t.get(k2, []) + [v2]\n",
        "  return t.items()"
      ],
      "execution_count": null,
      "outputs": []
    },
    {
      "cell_type": "code",
      "metadata": {
        "id": "cKzY_6COWOA2",
        "colab": {
          "base_uri": "https://localhost:8080/"
        },
        "outputId": "66387ac2-8157-4977-984b-aa21c9000774"
      },
      "source": [
        "shuffle_output = groupbykey(map_output)\n",
        "shuffle_output = list(shuffle_output)\n",
        "shuffle_output"
      ],
      "execution_count": null,
      "outputs": [
        {
          "output_type": "execute_result",
          "data": {
            "text/plain": [
              "[(25,\n",
              "  [User(id=1, age=25, social_contacts=240, gender='female'),\n",
              "   User(id=2, age=25, social_contacts=500, gender='female')]),\n",
              " (33, [User(id=3, age=33, social_contacts=800, gender='female')])]"
            ]
          },
          "metadata": {},
          "execution_count": 194
        }
      ]
    },
    {
      "cell_type": "code",
      "metadata": {
        "id": "NlA7lkDDYL0t",
        "colab": {
          "base_uri": "https://localhost:8080/"
        },
        "outputId": "a15f0a38-c244-4a01-b8aa-32cc859a8271"
      },
      "source": [
        "reduce_output = flatten(map(lambda x: REDUCE(*x), shuffle_output))\n",
        "reduce_output = list(reduce_output)\n",
        "reduce_output"
      ],
      "execution_count": null,
      "outputs": [
        {
          "output_type": "execute_result",
          "data": {
            "text/plain": [
              "[(25, 370.0), (33, 800.0)]"
            ]
          },
          "metadata": {},
          "execution_count": 195
        }
      ]
    },
    {
      "cell_type": "markdown",
      "metadata": {
        "id": "xf6qhHEtd6bI"
      },
      "source": [
        "Все действия одним конвейером!"
      ]
    },
    {
      "cell_type": "code",
      "metadata": {
        "id": "dZaQGYxCdpw5",
        "colab": {
          "base_uri": "https://localhost:8080/"
        },
        "outputId": "ff9886c9-ba4d-491a-de7c-123f39ff9cf0"
      },
      "source": [
        "list(flatten(map(lambda x: REDUCE(*x), groupbykey(flatten(map(lambda x: MAP(*x), RECORDREADER()))))))"
      ],
      "execution_count": null,
      "outputs": [
        {
          "output_type": "execute_result",
          "data": {
            "text/plain": [
              "[(25, 370.0), (33, 800.0)]"
            ]
          },
          "metadata": {},
          "execution_count": 196
        }
      ]
    },
    {
      "cell_type": "markdown",
      "metadata": {
        "id": "Vq3EWRIpwSiJ"
      },
      "source": [
        "# **MapReduce**\n",
        "Выделим общую для всех пользователей часть системы в отдельную функцию высшего порядка. Это наиболее простая модель MapReduce, без учёта распределённого хранения данных.\n",
        "\n",
        "Пользователь для решения своей задачи реализует RECORDREADER, MAP, REDUCE."
      ]
    },
    {
      "cell_type": "code",
      "metadata": {
        "id": "V1PZeQMwwVjc"
      },
      "source": [
        "def flatten(nested_iterable):\n",
        "  for iterable in nested_iterable:\n",
        "    for element in iterable:\n",
        "      yield element\n",
        "\n",
        "#группировка элементов по ключу входного итерируемого объекта\n",
        "def groupbykey(iterable):\n",
        "  t = {}\n",
        "  for (k2, v2) in iterable:\n",
        "    t[k2] = t.get(k2, []) + [v2]\n",
        "  return t.items()\n",
        "\n",
        "def MapReduce(RECORDREADER, MAP, REDUCE):\n",
        "  return flatten(map(lambda x: REDUCE(*x), groupbykey(flatten(map(lambda x: MAP(*x), RECORDREADER())))))"
      ],
      "execution_count": null,
      "outputs": []
    },
    {
      "cell_type": "markdown",
      "metadata": {
        "id": "iFIVrimep678"
      },
      "source": [
        "## Спецификация MapReduce\n",
        "\n",
        "\n",
        "\n",
        "```\n",
        "f (k1, v1) -> (k2,v2)*\n",
        "g (k2, v2*) -> (k3,v3)*\n",
        "\n",
        "mapreduce ((k1,v1)*) -> (k3,v3)*\n",
        "groupby ((k2,v2)*) -> (k2,v2*)*\n",
        "flatten (e2**) -> e2*\n",
        "\n",
        "mapreduce .map(f).flatten.groupby(k2).map(g).flatten\n",
        "```\n",
        "\n",
        "\n"
      ]
    },
    {
      "cell_type": "markdown",
      "metadata": {
        "id": "QtTFyqke3KGe"
      },
      "source": [
        "# Примеры"
      ]
    },
    {
      "cell_type": "markdown",
      "metadata": {
        "id": "BNhh5763w5Vn"
      },
      "source": [
        "## SQL"
      ]
    },
    {
      "cell_type": "code",
      "metadata": {
        "id": "QkyurnvGxBGk",
        "colab": {
          "base_uri": "https://localhost:8080/"
        },
        "outputId": "68519983-e07c-48f5-fb74-11f897ebe977"
      },
      "source": [
        "from typing import NamedTuple # requires python 3.6+\n",
        "from typing import Iterator\n",
        "\n",
        "class User(NamedTuple):\n",
        "  id: int\n",
        "  age: str\n",
        "  social_contacts: int\n",
        "  gender: str\n",
        "\n",
        "input_collection = [\n",
        "    User(id=0, age=55, gender='male', social_contacts=20),\n",
        "    User(id=1, age=25, gender='female', social_contacts=240),\n",
        "    User(id=2, age=25, gender='female', social_contacts=500),\n",
        "    User(id=3, age=33, gender='female', social_contacts=800)\n",
        "]\n",
        "\n",
        "def MAP(_, row:NamedTuple):\n",
        "  if (row.gender == 'female'):\n",
        "    yield (row.age, row)\n",
        "\n",
        "def REDUCE(age:str, rows:Iterator[NamedTuple]):\n",
        "  sum = 0\n",
        "  count = 0\n",
        "  for row in rows:\n",
        "    sum += row.social_contacts\n",
        "    count += 1\n",
        "  if (count > 0):\n",
        "    yield (age, sum/count)\n",
        "  else:\n",
        "    yield (age, 0)\n",
        "\n",
        "def RECORDREADER():\n",
        "  return [(u.id, u) for u in input_collection]\n",
        "\n",
        "output = MapReduce(RECORDREADER, MAP, REDUCE)\n",
        "output = list(output)\n",
        "output"
      ],
      "execution_count": null,
      "outputs": [
        {
          "output_type": "execute_result",
          "data": {
            "text/plain": [
              "[(25, 370.0), (33, 800.0)]"
            ]
          },
          "metadata": {},
          "execution_count": 198
        }
      ]
    },
    {
      "cell_type": "markdown",
      "metadata": {
        "id": "kNKYIeerx0nY"
      },
      "source": [
        "## Matrix-Vector multiplication"
      ]
    },
    {
      "cell_type": "code",
      "metadata": {
        "id": "rwcntRcCyi1V",
        "colab": {
          "base_uri": "https://localhost:8080/"
        },
        "outputId": "67e3e9fa-9ea8-44eb-ecd1-0b89c236fd65"
      },
      "source": [
        "from typing import Iterator\n",
        "import numpy as np\n",
        "\n",
        "mat = np.ones((5,4))\n",
        "vec = np.random.rand(4) # in-memory vector in all map tasks\n",
        "\n",
        "#(номер строки, значение*вектор с номером столбца)\n",
        "def MAP(coordinates:(int, int), value:int):\n",
        "  i, j = coordinates\n",
        "  yield (i, value*vec[j])\n",
        "\n",
        "#Суммирует значения из одной группы(походу так)\n",
        "def REDUCE(i:int, products:Iterator[NamedTuple]):\n",
        "  sum = 0\n",
        "  for p in products:\n",
        "    sum += p\n",
        "  yield (i, sum)\n",
        "\n",
        "#(координаты, значение)\n",
        "def RECORDREADER():\n",
        "  for i in range(mat.shape[0]):\n",
        "    for j in range(mat.shape[1]):\n",
        "      yield ((i, j), mat[i,j])\n",
        "\n",
        "output = MapReduce(RECORDREADER, MAP, REDUCE)\n",
        "output = list(output)\n",
        "output"
      ],
      "execution_count": null,
      "outputs": [
        {
          "output_type": "execute_result",
          "data": {
            "text/plain": [
              "[(0, 1.9758209666654833),\n",
              " (1, 1.9758209666654833),\n",
              " (2, 1.9758209666654833),\n",
              " (3, 1.9758209666654833),\n",
              " (4, 1.9758209666654833)]"
            ]
          },
          "metadata": {},
          "execution_count": 199
        }
      ]
    },
    {
      "cell_type": "markdown",
      "metadata": {
        "id": "ruZREYdi2o4O"
      },
      "source": [
        "## Inverted index"
      ]
    },
    {
      "cell_type": "code",
      "metadata": {
        "id": "vt9H9Alf3TYv",
        "colab": {
          "base_uri": "https://localhost:8080/"
        },
        "outputId": "e6bec3c7-c361-43d2-b006-f0feaf680750"
      },
      "source": [
        "from typing import Iterator\n",
        "\n",
        "d1 = \"it is what it is\"\n",
        "d2 = \"what is it\"\n",
        "d3 = \"it is a banana\"\n",
        "documents = [d1, d2, d3]\n",
        "\n",
        "#чтение записей из списка documents и добавления им уникального идентификатора docid с использованием генератора\n",
        "#(номер, фраза)\n",
        "def RECORDREADER():\n",
        "  for (docid, document) in enumerate(documents):\n",
        "    yield (\"{}\".format(docid), document)\n",
        "\n",
        "#присваеваем номер фразы каждому уникальному слову из фразы\n",
        "def MAP(docId:str, body:str):\n",
        "  for word in set(body.split(' ')):\n",
        "    yield (word, docId)\n",
        "#сортируем по айдишнику\n",
        "def REDUCE(word:str, docIds:Iterator[str]):\n",
        "  yield (word, sorted(docIds))\n",
        "\n",
        "output = MapReduce(RECORDREADER, MAP, REDUCE)\n",
        "output = list(output)\n",
        "output"
      ],
      "execution_count": null,
      "outputs": [
        {
          "output_type": "execute_result",
          "data": {
            "text/plain": [
              "[('what', ['0', '1']),\n",
              " ('it', ['0', '1', '2']),\n",
              " ('is', ['0', '1', '2']),\n",
              " ('banana', ['2']),\n",
              " ('a', ['2'])]"
            ]
          },
          "metadata": {},
          "execution_count": 200
        }
      ]
    },
    {
      "cell_type": "markdown",
      "metadata": {
        "id": "R7az-6DA6qr2"
      },
      "source": [
        "## WordCount"
      ]
    },
    {
      "cell_type": "code",
      "metadata": {
        "id": "dN-nbtgG6uYG",
        "colab": {
          "base_uri": "https://localhost:8080/"
        },
        "outputId": "c6e35299-e088-4e30-f3df-10717460bdaa"
      },
      "source": [
        "from typing import Iterator\n",
        "\n",
        "d1 = \"\"\"\n",
        "it is what it is\n",
        "it is what it is\n",
        "it is what it is\"\"\"\n",
        "d2 = \"\"\"\n",
        "what is it\n",
        "what is it\"\"\"\n",
        "d3 = \"\"\"\n",
        "it is a banana\"\"\"\n",
        "documents = [d1, d2, d3]\n",
        "print(documents)\n",
        "\n",
        "# Выводим номер предложения и номер строки (0:1 it is what it is)\n",
        "def RECORDREADER():\n",
        "  for (docid, document) in enumerate(documents):\n",
        "    for (lineid, line) in enumerate(document.split('\\n')):\n",
        "      yield (\"{}:{}\".format(docid,lineid), line)\n",
        "\n",
        "# Разделяем по словам и ставим единичку (what 1)\n",
        "def MAP(docId:str, line:str):\n",
        "  for word in line.split(\" \"):\n",
        "    yield (word, 1)\n",
        "\n",
        "#Считаем количество повторов слов (it 9)\n",
        "def REDUCE(word:str, counts:Iterator[int]):\n",
        "  sum = 0\n",
        "  for c in counts:\n",
        "    sum += c\n",
        "  yield (word, sum)\n",
        "\n",
        "output = MapReduce(RECORDREADER, MAP, REDUCE)\n",
        "output = list(output)\n",
        "output"
      ],
      "execution_count": null,
      "outputs": [
        {
          "output_type": "stream",
          "name": "stdout",
          "text": [
            "['\\nit is what it is\\nit is what it is\\nit is what it is', '\\nwhat is it\\nwhat is it', '\\nit is a banana']\n"
          ]
        },
        {
          "output_type": "execute_result",
          "data": {
            "text/plain": [
              "[('', 3), ('it', 9), ('is', 9), ('what', 5), ('a', 1), ('banana', 1)]"
            ]
          },
          "metadata": {},
          "execution_count": 201
        }
      ]
    },
    {
      "cell_type": "markdown",
      "metadata": {
        "id": "h-jRAcYCAkkk"
      },
      "source": [
        "# MapReduce Distributed\n",
        "\n",
        "Добавляется в модель фабрика RECORDREARER-ов --- INPUTFORMAT, функция распределения промежуточных результатов по партициям PARTITIONER, и функция COMBINER для частичной аггрегации промежуточных результатов до распределения по новым партициям."
      ]
    },
    {
      "cell_type": "code",
      "metadata": {
        "id": "nw-b-xJsApgW"
      },
      "source": [
        "#возвращает каждый элемент последовательно\n",
        "def flatten(nested_iterable):\n",
        "  for iterable in nested_iterable:\n",
        "    for element in iterable:\n",
        "      yield element\n",
        "\n",
        "#группирует значения с одинаковыми ключами в словаре.\n",
        "def groupbykey(iterable):\n",
        "  t = {}\n",
        "  for (k2, v2) in iterable:\n",
        "    t[k2] = t.get(k2, []) + [v2]\n",
        "  return t.items()\n",
        "\n",
        "#Результат: список из пар номер раздела и отсортированные пары ключ-значение\n",
        "def groupbykey_distributed(map_partitions, PARTITIONER):\n",
        "  global reducers #редьюсера у нас 2 штуки\n",
        "  #Cписок словарей с количеством элементов, определенным в глобальной переменной reducers.\n",
        "  #Каждый словарь будет представлять собой раздел, в котором будут храниться отображения ключей на соответствующие значения.\n",
        "  partitions = [dict() for _ in range(reducers)]\n",
        "  #Каждая строчку из мap_partitions (слово, 1)\n",
        "  for map_partition in map_partitions:\n",
        "    #Распаковывает каждую пару ключ-значение\n",
        "    for (k2, v2) in map_partition:\n",
        "      #получение соответствующего словаря из списка 0 или 1\n",
        "      p = partitions[PARTITIONER(k2)]\n",
        "      #добавление значения v2 в соответствующую запись словаря\n",
        "      p[k2] = p.get(k2, []) + [v2]\n",
        "\n",
        "  # Каждый элемент списка представляет собой пару (partition_id, sorted(partition.items(), key=lambda x: x[0])),\n",
        "  # где partition_id - это индекс раздела, а sorted(partition.items(), key=lambda x: x[0]) - это отсортированный список пар ключ-значение для данного раздела.\n",
        "  return [(partition_id, sorted(partition.items(), key=lambda x: x[0])) for (partition_id, partition) in enumerate(partitions)]\n",
        "\n",
        "#определение, в какой раздел (редьюсер) должен быть отправлен объект obj\n",
        "def PARTITIONER(obj):\n",
        "  global reducers #редьюсера у нас 2 штуки\n",
        "  # hash() возвращает уникальное целое число для каждого объекта\n",
        "  return hash(obj) % reducers # возвращает остаток от деления\n",
        "\n",
        "\n",
        "def MapReduceDistributed(INPUTFORMAT, MAP, REDUCE, PARTITIONER=PARTITIONER, COMBINER=None):\n",
        "  #map(что сделать, с чем сделать) - поэлементное вычисление\n",
        "  #по идее на выходе имеем все слова с единичкой\n",
        "  map_partitions = map(lambda record_reader: flatten(map(lambda k1v1: MAP(*k1v1), record_reader)), INPUTFORMAT())\n",
        "  #Если задана доп функция\n",
        "  if COMBINER != None:\n",
        "    map_partitions = map(lambda map_partition: flatten(map(lambda k2v2: COMBINER(*k2v2), groupbykey(map_partition))), map_partitions)\n",
        "\n",
        "  #Результат: список из пар (номер раздела и отсортированные пары ключ-значение)\n",
        "  reduce_partitions = groupbykey_distributed(map_partitions, PARTITIONER) # shuffle\n",
        "\n",
        "  #содержит кортежи с идентификаторами разделов и списками, состоящих из кортежей посчитанных уникальных слов\n",
        "  #([(0, [('', 6), ('it', 18), ('what', 10)]), (1, [('a', 2), ('banana', 2), ('is', 18)])])\n",
        "  reduce_outputs = map(lambda reduce_partition: (reduce_partition[0], flatten(map(lambda reduce_input_group: REDUCE(*reduce_input_group), reduce_partition[1]))), reduce_partitions)\n",
        "\n",
        "  #считаем типо сколько всего слов было\n",
        "  print(\"{} key-value pairs were sent over a network.\".format(sum([len(vs) for (k,vs) in flatten([partition for (partition_id, partition) in reduce_partitions])])))\n",
        "  return reduce_outputs"
      ],
      "execution_count": null,
      "outputs": []
    },
    {
      "cell_type": "markdown",
      "metadata": {
        "id": "kxirlf3XqZxY"
      },
      "source": [
        "## Спецификация MapReduce Distributed\n",
        "\n",
        "\n",
        "```\n",
        "f (k1, v1) -> (k2,v2)*\n",
        "g (k2, v2*) -> (k3,v3)*\n",
        "\n",
        "e1 (k1, v1)\n",
        "e2 (k2, v2)\n",
        "partition1 (k2, v2)*\n",
        "partition2 (k2, v2*)*\n",
        "\n",
        "flatmap (e1->e2*, e1*) -> partition1*\n",
        "groupby (partition1*) -> partition2*\n",
        "\n",
        "mapreduce ((k1,v1)*) -> (k3,v3)*\n",
        "mapreduce .flatmap(f).groupby(k2).flatmap(g)\n",
        "```\n",
        "\n"
      ]
    },
    {
      "cell_type": "markdown",
      "metadata": {
        "id": "CWYw_CpbbY3C"
      },
      "source": [
        "## WordCount"
      ]
    },
    {
      "cell_type": "code",
      "metadata": {
        "id": "uR_zfGFkMZlp",
        "colab": {
          "base_uri": "https://localhost:8080/"
        },
        "outputId": "2b5da8c5-8f61-408d-85b5-c5121a4fd209"
      },
      "source": [
        "from typing import Iterator\n",
        "import numpy as np\n",
        "\n",
        "d1 = \"\"\"\n",
        "it is what it is\n",
        "it is what it is\n",
        "it is what it is\"\"\"\n",
        "d2 = \"\"\"\n",
        "what is it\n",
        "what is it\"\"\"\n",
        "d3 = \"\"\"\n",
        "it is a banana\"\"\"\n",
        "documents = [d1, d2, d3, d1, d2, d3]\n",
        "\n",
        "maps = 3\n",
        "reducers = 2\n",
        "\n",
        "#На выходе номер документа : номер строки, а значение - сама строка\n",
        "def INPUTFORMAT():\n",
        "  global maps\n",
        "\n",
        "  def RECORDREADER(split):\n",
        "    #сначала по каждому документу в разделе\n",
        "    for (docid, document) in enumerate(split):\n",
        "      #затем по каждой строке в документе\n",
        "      for (lineid, line) in enumerate(document.split('\\n')):\n",
        "        #Для каждой строки генерируется пара ключ-значение, где ключом является составное значение\n",
        "        # формата \"docid:lineid\", представляющее идентификатор документа и номер строки, а значением - сама строка.\n",
        "        yield (\"{}:{}\".format(docid,lineid), line)\n",
        "\n",
        "  #выполняется разделение всего набора данных на несколько подмножеств размером split_size\n",
        "  split_size =  int(np.ceil(len(documents)/maps)) #np.ceil()-округление вверх значения аргумента до ближайшего целого числа.\n",
        "  for i in range(0, len(documents), split_size):\n",
        "    #передаем в функцию порции документа, в данном случае будет 3 порции: 0-1, 2-3, 4-5\n",
        "    yield RECORDREADER(documents[i:i+split_size])\n",
        "\n",
        "#Передаем номер дока и строку, получаем (слово, 1)\n",
        "def MAP(docId:str, line:str):\n",
        "  #дл каждого слова в строке\n",
        "  for word in line.split(\" \"):\n",
        "    yield (word, 1)\n",
        "\n",
        "#Считаем количество слов\n",
        "def REDUCE(word:str, counts:Iterator[int]):\n",
        "  sum = 0\n",
        "  for c in counts:\n",
        "    sum += c\n",
        "  yield (word, sum)\n",
        "\n",
        "# try to set COMBINER=REDUCER and look at the number of values sent over the network\n",
        "partitioned_output = MapReduceDistributed(INPUTFORMAT, MAP, REDUCE, COMBINER=None)\n",
        "partitioned_output = [(partition_id, list(partition)) for (partition_id, partition) in partitioned_output]\n",
        "partitioned_output"
      ],
      "execution_count": null,
      "outputs": [
        {
          "output_type": "stream",
          "name": "stdout",
          "text": [
            "56 key-value pairs were sent over a network.\n"
          ]
        },
        {
          "output_type": "execute_result",
          "data": {
            "text/plain": [
              "[(0, [('', 6), ('a', 2), ('banana', 2), ('it', 18)]),\n",
              " (1, [('is', 18), ('what', 10)])]"
            ]
          },
          "metadata": {},
          "execution_count": 203
        }
      ]
    },
    {
      "cell_type": "markdown",
      "metadata": {
        "id": "gCJGx8IQ87xS"
      },
      "source": [
        "## TeraSort"
      ]
    },
    {
      "cell_type": "code",
      "metadata": {
        "id": "P2v8v1v_8_YR",
        "colab": {
          "base_uri": "https://localhost:8080/"
        },
        "outputId": "4b776358-ab5b-4689-908a-fef21226c045"
      },
      "source": [
        "import numpy as np\n",
        "\n",
        "input_values = np.random.rand(30)\n",
        "maps = 3\n",
        "reducers = 2\n",
        "min_value = 0.0\n",
        "max_value = 1.0\n",
        "\n",
        "def INPUTFORMAT():\n",
        "  global maps\n",
        "\n",
        "  def RECORDREADER(split):\n",
        "    for value in split:\n",
        "        yield (value, None)\n",
        "\n",
        "  #выполняется разделение всего набора данных на несколько подмножеств размером split_size\n",
        "  split_size =  int(np.ceil(len(input_values)/maps))\n",
        "  for i in range(0, len(input_values), split_size):\n",
        "    #передаем в функцию порции документа, в данном случае будет 3 порции: 0-9 10-19 20-29\n",
        "    yield RECORDREADER(input_values[i:i+split_size])\n",
        "\n",
        "def MAP(value:int, _):\n",
        "  #value - это значение value, переданное в функцию MAP\n",
        "  #None - это отсутствие информации связанное с каждым значением.\n",
        "  yield (value, None)\n",
        "\n",
        "#Распихиваем по разделам\n",
        "def PARTITIONER(key):\n",
        "  global reducers\n",
        "  global max_value\n",
        "  global min_value\n",
        "\n",
        "  #размер каждого раздела (бакета) данных, в данном случае bucket_size = 0.5\n",
        "  bucket_size = (max_value-min_value)/reducers\n",
        "  bucket_id = 0\n",
        "  #если key больше, чем верхняя граница текущего раздела данных и\n",
        "  # верхняя граница следующего раздела данных меньше, чем max_value\n",
        "  while((key>(bucket_id+1)*bucket_size) and ((bucket_id+1)*bucket_size<max_value)):\n",
        "    bucket_id += 1\n",
        "  #возвращает идентификатор раздела (бакета) данных, на который будет отображен ключ.\n",
        "  return bucket_id\n",
        "\n",
        "def REDUCE(value:int, _):\n",
        "  yield (None,value)\n",
        "\n",
        "partitioned_output = MapReduceDistributed(INPUTFORMAT, MAP, REDUCE, COMBINER=None, PARTITIONER=PARTITIONER)\n",
        "partitioned_output = [(partition_id, list(partition)) for (partition_id, partition) in partitioned_output]\n",
        "partitioned_output"
      ],
      "execution_count": null,
      "outputs": [
        {
          "output_type": "stream",
          "name": "stdout",
          "text": [
            "30 key-value pairs were sent over a network.\n"
          ]
        },
        {
          "output_type": "execute_result",
          "data": {
            "text/plain": [
              "[(0,\n",
              "  [(None, 0.01488878828168283),\n",
              "   (None, 0.03163748541784295),\n",
              "   (None, 0.06852995380200355),\n",
              "   (None, 0.09707150981956247),\n",
              "   (None, 0.22408903637575583),\n",
              "   (None, 0.2331183913982896),\n",
              "   (None, 0.2705509431991123),\n",
              "   (None, 0.38347241651585096),\n",
              "   (None, 0.41863606261442565),\n",
              "   (None, 0.4433491591317591),\n",
              "   (None, 0.443477195154091),\n",
              "   (None, 0.4827946006315249)]),\n",
              " (1,\n",
              "  [(None, 0.5015110539688712),\n",
              "   (None, 0.5386838262858766),\n",
              "   (None, 0.5559514411717907),\n",
              "   (None, 0.5791711028339818),\n",
              "   (None, 0.5859181330547648),\n",
              "   (None, 0.5919054475829714),\n",
              "   (None, 0.5940488320629793),\n",
              "   (None, 0.6672624578732929),\n",
              "   (None, 0.7136071187846663),\n",
              "   (None, 0.7390672897058819),\n",
              "   (None, 0.755491347703195),\n",
              "   (None, 0.7778583549990876),\n",
              "   (None, 0.7890597618092786),\n",
              "   (None, 0.8149761669048884),\n",
              "   (None, 0.8972478792445862),\n",
              "   (None, 0.9443627957074038),\n",
              "   (None, 0.9615828989917868),\n",
              "   (None, 0.9792664092527378)])]"
            ]
          },
          "metadata": {},
          "execution_count": 204
        }
      ]
    },
    {
      "cell_type": "markdown",
      "metadata": {
        "id": "Iy65YJTH99iT"
      },
      "source": [
        "# Упражнения\n",
        "Упражнения взяты из Rajaraman A., Ullman J. D. Mining of massive datasets. – Cambridge University Press, 2011.\n",
        "\n",
        "\n",
        "Для выполнения заданий переопределите функции RECORDREADER, MAP, REDUCE. Для модели распределённой системы может потребоваться переопределение функций PARTITION и COMBINER."
      ]
    },
    {
      "cell_type": "markdown",
      "metadata": {
        "id": "cfvAeZm3S8S8"
      },
      "source": [
        "### Максимальное значение ряда\n",
        "\n",
        "Разработайте MapReduce алгоритм, который находит максимальное число входного списка чисел."
      ]
    },
    {
      "cell_type": "code",
      "metadata": {
        "id": "3GRA1JR-Tkbg",
        "colab": {
          "base_uri": "https://localhost:8080/"
        },
        "outputId": "a0a78a75-9a8e-4d25-fc11-85de1f3a4bdc"
      },
      "source": [
        "#Создаем входной список чисел\n",
        "rand_list = np.random.rand(10)\n",
        "print(rand_list)\n",
        "\n",
        "#Создаем пару ключ-значение, в данном случае ключ - none\n",
        "def MAP(_, value):\n",
        "  yield (None, value)\n",
        "\n",
        "#Выдаем конечный результат, т.е. максимальное число\n",
        "def REDUCE(_, val):\n",
        "  yield max(val)\n",
        "\n",
        "#Чтение элементов\n",
        "def RECORDREADER():\n",
        "  for i in range(len(rand_list)):\n",
        "    yield(None, rand_list[i])\n",
        "\n",
        "output = MapReduce(RECORDREADER, MAP, REDUCE)\n",
        "output = list(output)\n",
        "output"
      ],
      "execution_count": null,
      "outputs": [
        {
          "output_type": "stream",
          "name": "stdout",
          "text": [
            "[0.0112636  0.8140364  0.69869154 0.1337702  0.18784082 0.5221562\n",
            " 0.32170672 0.54392952 0.59499065 0.45401093]\n"
          ]
        },
        {
          "output_type": "execute_result",
          "data": {
            "text/plain": [
              "[0.814036397900506]"
            ]
          },
          "metadata": {},
          "execution_count": 205
        }
      ]
    },
    {
      "cell_type": "markdown",
      "metadata": {
        "id": "k86bXnqZTk-U"
      },
      "source": [
        "### Арифметическое среднее\n",
        "\n",
        "Разработайте MapReduce алгоритм, который находит арифметическое среднее.\n",
        "\n",
        "$$\\overline{X} = \\frac{1}{n}\\sum_{i=0}^{n} x_i$$\n"
      ]
    },
    {
      "cell_type": "code",
      "metadata": {
        "id": "MPoY5pkfUNZf",
        "colab": {
          "base_uri": "https://localhost:8080/"
        },
        "outputId": "40c02fd0-dde5-4cee-91ff-64b1cae0e332"
      },
      "source": [
        "def MAP(_, value):\n",
        "  yield (None, value)\n",
        "\n",
        "def REDUCE(_, val):\n",
        "  yield np.mean(val)\n",
        "\n",
        "def RECORDREADER():\n",
        "  for i in range(len(rand_list)):\n",
        "    yield(None, rand_list[i])\n",
        "\n",
        "output = MapReduce(RECORDREADER, MAP, REDUCE)\n",
        "output = list(output)\n",
        "output"
      ],
      "execution_count": null,
      "outputs": [
        {
          "output_type": "execute_result",
          "data": {
            "text/plain": [
              "[0.428239657226805]"
            ]
          },
          "metadata": {},
          "execution_count": 206
        }
      ]
    },
    {
      "cell_type": "markdown",
      "metadata": {
        "id": "xanzszhsIlLe"
      },
      "source": [
        "### GroupByKey на основе сортировки\n",
        "\n",
        "Реализуйте groupByKey на основе сортировки, проверьте его работу на примерах"
      ]
    },
    {
      "cell_type": "code",
      "metadata": {
        "id": "hQPn3USsIkEC",
        "colab": {
          "base_uri": "https://localhost:8080/"
        },
        "outputId": "214f896c-01d2-4475-c542-05fffac8ea87"
      },
      "source": [
        "from operator import itemgetter\n",
        "def groupbykey(iterable):\n",
        "  t = {}\n",
        "  for (k2, v2) in iterable:\n",
        "    t[k2] = t.get(k2, []) + [v2]\n",
        "  return sorted(t.items(), key=itemgetter(0)) #Функция sorted возвращает список\n",
        "\n",
        "shuffle_output = groupbykey(map_output)\n",
        "shuffle_output"
      ],
      "execution_count": null,
      "outputs": [
        {
          "output_type": "execute_result",
          "data": {
            "text/plain": [
              "[(25,\n",
              "  [User(id=1, age=25, social_contacts=240, gender='female'),\n",
              "   User(id=2, age=25, social_contacts=500, gender='female')]),\n",
              " (33, [User(id=3, age=33, social_contacts=800, gender='female')])]"
            ]
          },
          "metadata": {},
          "execution_count": 207
        }
      ]
    },
    {
      "cell_type": "markdown",
      "metadata": {
        "id": "5SgEjCZyGnu6"
      },
      "source": [
        "### Drop duplicates (set construction, unique elements, distinct)\n",
        "\n",
        "Реализуйте распределённую операцию исключения дубликатов"
      ]
    },
    {
      "cell_type": "code",
      "metadata": {
        "id": "okjbyApjGhMt",
        "colab": {
          "base_uri": "https://localhost:8080/"
        },
        "outputId": "add2b0dc-4781-4189-adcc-ccd474baab9c"
      },
      "source": [
        "input_collection = [\n",
        "    User(id=0, age=22, gender=\"female\", social_contacts=30),\n",
        "    User(id=1, age=28, gender=\"male\", social_contacts=150),\n",
        "    User(id=2, age=33, gender=\"female\", social_contacts=420),\n",
        "    User(id=3, age=22, gender=\"male\", social_contacts=320),\n",
        "    User(id=4, age=19, gender=\"female\", social_contacts=180),\n",
        "    User(id=2, age=31, gender=\"female\", social_contacts=410),\n",
        "    User(id=1, age=27, gender=\"male\", social_contacts=170),\n",
        "    User(id=4, age=21, gender=\"female\", social_contacts=200),\n",
        "]\n",
        "\n",
        "maps = 3\n",
        "reducers = 2\n",
        "\n",
        "#Выполняет разделение набора\n",
        "def INPUTFORMAT():\n",
        "  global maps\n",
        "  #Чтение данных\n",
        "  def RECORDREADER(split):\n",
        "    for user in split:\n",
        "      yield (None, user)\n",
        "\n",
        "  split_size =  int(np.ceil(len(input_collection)/maps))\n",
        "  for i in range(0, len(input_collection), split_size):\n",
        "    yield RECORDREADER(input_collection[i:i+split_size])\n",
        "\n",
        "#Возвращает ключ-значение\n",
        "def MAP(_, user:NamedTuple):\n",
        "  yield user.id, user\n",
        "\n",
        "#Выдаем конечный результат\n",
        "def REDUCE(userId:int, user:Iterator[str]):\n",
        "  yield user[0]\n",
        "\n",
        "partitioned_output = MapReduceDistributed(INPUTFORMAT, MAP, REDUCE, COMBINER=None, PARTITIONER=PARTITIONER)\n",
        "partitioned_output = [(partition_id, list(partition)) for (partition_id, partition) in partitioned_output]\n",
        "partitioned_output"
      ],
      "execution_count": null,
      "outputs": [
        {
          "output_type": "stream",
          "name": "stdout",
          "text": [
            "8 key-value pairs were sent over a network.\n"
          ]
        },
        {
          "output_type": "execute_result",
          "data": {
            "text/plain": [
              "[(0, [User(id=0, age=22, social_contacts=30, gender='female')]),\n",
              " (1,\n",
              "  [User(id=1, age=28, social_contacts=150, gender='male'),\n",
              "   User(id=2, age=33, social_contacts=420, gender='female'),\n",
              "   User(id=3, age=22, social_contacts=320, gender='male'),\n",
              "   User(id=4, age=19, social_contacts=180, gender='female')])]"
            ]
          },
          "metadata": {},
          "execution_count": 208
        }
      ]
    },
    {
      "cell_type": "markdown",
      "metadata": {
        "id": "e7sRGoTXuJze"
      },
      "source": [
        "#Операторы реляционной алгебры\n",
        "### Selection (Выборка)\n",
        "\n",
        "**The Map Function**: Для  каждого кортежа $t \\in R$ вычисляется истинность предиката $C$. В случае истины создаётся пара ключ-значение $(t, t)$. В паре ключ и значение одинаковы, равны $t$.\n",
        "\n",
        "**The Reduce Function:** Роль функции Reduce выполняет функция идентичности, которая возвращает то же значение, что получила на вход.\n",
        "\n"
      ]
    },
    {
      "cell_type": "code",
      "metadata": {
        "id": "4nKIKe59uIfc",
        "colab": {
          "base_uri": "https://localhost:8080/"
        },
        "outputId": "765cb9e1-35d2-47f0-f655-873b16c1c4b8"
      },
      "source": [
        "#Для примера создадим класс \"табло аэропорта\"\n",
        "class flight(NamedTuple):\n",
        "  flight_id: int\n",
        "  terminal: str\n",
        "  destination: str\n",
        "  time: str\n",
        "  gate: int\n",
        "  status: str\n",
        "  #\"check-in, boarding, delayed, departed, arrived\"\n",
        "\n",
        "FlightsBoard_1 = [\n",
        "    flight(flight_id = 123, terminal = 'A',  destination = 'Dubai', time = '20/04/24 16:30', gate = 11,  status = 'check-in' ),\n",
        "    flight(flight_id = 987, terminal = 'B',  destination = 'Bali', time = '20/04/24 17:30', gate = 6,  status = 'boarding' ),\n",
        "    flight(flight_id = 456, terminal = 'C', destination = 'Maldives', time = '20/04/24 18:30', gate = 5,  status = 'check-in' ),\n",
        "    flight(flight_id = 765, terminal = 'A',destination = 'Dubai', time = '20/04/24 18:30', gate = 10,  status = 'departed' ),\n",
        "]\n",
        "\n",
        "#Выбираем только те кортежи, где пункт назначения Дубаи\n",
        "def MAP(_, row:NamedTuple):\n",
        "  if (row.destination == 'Dubai'):\n",
        "    yield (row, row)\n",
        "#Возвращаем что получили на вход\n",
        "def REDUCE(row1:NamedTuple, row2:NamedTuple):\n",
        "  yield (row1, row2)\n",
        "\n",
        "#Чтение элементов\n",
        "def RECORDREADER():\n",
        "  return [(f.flight_id, f) for f in FlightsBoard_1]\n",
        "\n",
        "output = MapReduce(RECORDREADER, MAP, REDUCE)\n",
        "output = list(output)\n",
        "output"
      ],
      "execution_count": null,
      "outputs": [
        {
          "output_type": "execute_result",
          "data": {
            "text/plain": [
              "[(flight(flight_id=123, terminal='A', destination='Dubai', time='20/04/24 16:30', gate=11, status='check-in'),\n",
              "  [flight(flight_id=123, terminal='A', destination='Dubai', time='20/04/24 16:30', gate=11, status='check-in')]),\n",
              " (flight(flight_id=765, terminal='A', destination='Dubai', time='20/04/24 18:30', gate=10, status='departed'),\n",
              "  [flight(flight_id=765, terminal='A', destination='Dubai', time='20/04/24 18:30', gate=10, status='departed')])]"
            ]
          },
          "metadata": {},
          "execution_count": 209
        }
      ]
    },
    {
      "cell_type": "markdown",
      "metadata": {
        "id": "w27Ca-_Ku85V"
      },
      "source": [
        "### Projection (Проекция)\n",
        "\n",
        "Проекция на множество атрибутов $S$.\n",
        "\n",
        "**The Map Function:** Для каждого кортежа $t \\in R$ создайте кортеж $t′$, исключая  из $t$ те значения, атрибуты которых не принадлежат  $S$. Верните пару $(t′, t′)$.\n",
        "\n",
        "**The Reduce Function:** Для каждого ключа $t′$, созданного любой Map задачей, вы получаете одну или несколько пар $(t′, t′)$. Reduce функция преобразует $(t′, [t′, t′, . . . , t′])$ в $(t′, t′)$, так, что для ключа $t′$ возвращается одна пара  $(t′, t′)$."
      ]
    },
    {
      "cell_type": "code",
      "metadata": {
        "id": "BEvuY4GqvhS6",
        "colab": {
          "base_uri": "https://localhost:8080/"
        },
        "outputId": "666534fe-6aa1-4b5b-8775-1efb441f9712"
      },
      "source": [
        "#Возвращаем в качесвте ключа и значения статус рейса\n",
        "def MAP(_, row:NamedTuple):\n",
        "  yield (row.status, row.status)\n",
        "\n",
        "#Возвращаются преобразованные ключ значения без повторений\n",
        "def REDUCE(row1:NamedTuple, row2:NamedTuple):\n",
        "  yield (row1, row2[0])\n",
        "#Чтение данных\n",
        "def RECORDREADER():\n",
        "  return [(f.flight_id, f) for f in FlightsBoard_1]\n",
        "\n",
        "output = MapReduce(RECORDREADER, MAP, REDUCE)\n",
        "output = list(output)\n",
        "output"
      ],
      "execution_count": null,
      "outputs": [
        {
          "output_type": "execute_result",
          "data": {
            "text/plain": [
              "[('boarding', 'boarding'), ('check-in', 'check-in'), ('departed', 'departed')]"
            ]
          },
          "metadata": {},
          "execution_count": 210
        }
      ]
    },
    {
      "cell_type": "markdown",
      "metadata": {
        "id": "7gau6lKXvn2R"
      },
      "source": [
        "### Union (Объединение)\n",
        "\n",
        "**The Map Function:** Превратите каждый входной кортеж $t$ в пару ключ-значение $(t, t)$.\n",
        "\n",
        "**The Reduce Function:** С каждым ключом $t$ будет ассоциировано одно или два значений. В обоих случаях создайте $(t, t)$ в качестве выходного значения."
      ]
    },
    {
      "cell_type": "code",
      "metadata": {
        "id": "Sns7a5agv3nw",
        "colab": {
          "base_uri": "https://localhost:8080/"
        },
        "outputId": "b2e92ea1-a810-47f5-f711-90bd3d622cdd"
      },
      "source": [
        "#Допустим у нас появился второй аэропорт в городе\n",
        "FlightsBoard_2 = [\n",
        "    flight(flight_id = 123, terminal = 'A',  destination = 'Dubai', time = '20/04/24 16:30', gate = 11,  status = 'check-in' ),\n",
        "    flight(flight_id = 456, terminal = 'B',  destination = 'Bali', time = '20/04/24 17:30', gate = 6,  status = 'boarding' ),\n",
        "    flight(flight_id = 789, terminal = 'C', destination = 'Maldives', time = '20/04/24 18:30', gate = 5,  status = 'check-in' ),\n",
        "    flight(flight_id = 321, terminal = 'A',destination = 'Dubai', time = '20/04/24 18:30', gate = 10,  status = 'departed' ),\n",
        "]\n",
        "\n",
        "#Возвращаем кортежи\n",
        "def MAP(_, row:NamedTuple):\n",
        "  yield (row, row)\n",
        "\n",
        "def REDUCE(row1:NamedTuple, row2:NamedTuple):\n",
        "  yield (row1, row2[0])\n",
        "\n",
        "#Считываем данные с первой таблицы и второй\n",
        "def RECORDREADER():\n",
        "  return [(f.flight_id, f) for f in FlightsBoard_1 + FlightsBoard_2]\n",
        "\n",
        "output = MapReduce(RECORDREADER, MAP, REDUCE)\n",
        "output = list(output)\n",
        "output"
      ],
      "execution_count": null,
      "outputs": [
        {
          "output_type": "execute_result",
          "data": {
            "text/plain": [
              "[(flight(flight_id=123, terminal='A', destination='Dubai', time='20/04/24 16:30', gate=11, status='check-in'),\n",
              "  flight(flight_id=123, terminal='A', destination='Dubai', time='20/04/24 16:30', gate=11, status='check-in')),\n",
              " (flight(flight_id=321, terminal='A', destination='Dubai', time='20/04/24 18:30', gate=10, status='departed'),\n",
              "  flight(flight_id=321, terminal='A', destination='Dubai', time='20/04/24 18:30', gate=10, status='departed')),\n",
              " (flight(flight_id=456, terminal='B', destination='Bali', time='20/04/24 17:30', gate=6, status='boarding'),\n",
              "  flight(flight_id=456, terminal='B', destination='Bali', time='20/04/24 17:30', gate=6, status='boarding')),\n",
              " (flight(flight_id=456, terminal='C', destination='Maldives', time='20/04/24 18:30', gate=5, status='check-in'),\n",
              "  flight(flight_id=456, terminal='C', destination='Maldives', time='20/04/24 18:30', gate=5, status='check-in')),\n",
              " (flight(flight_id=765, terminal='A', destination='Dubai', time='20/04/24 18:30', gate=10, status='departed'),\n",
              "  flight(flight_id=765, terminal='A', destination='Dubai', time='20/04/24 18:30', gate=10, status='departed')),\n",
              " (flight(flight_id=789, terminal='C', destination='Maldives', time='20/04/24 18:30', gate=5, status='check-in'),\n",
              "  flight(flight_id=789, terminal='C', destination='Maldives', time='20/04/24 18:30', gate=5, status='check-in')),\n",
              " (flight(flight_id=987, terminal='B', destination='Bali', time='20/04/24 17:30', gate=6, status='boarding'),\n",
              "  flight(flight_id=987, terminal='B', destination='Bali', time='20/04/24 17:30', gate=6, status='boarding'))]"
            ]
          },
          "metadata": {},
          "execution_count": 211
        }
      ]
    },
    {
      "cell_type": "markdown",
      "metadata": {
        "id": "dQ8TuEbjv4J8"
      },
      "source": [
        "### Intersection (Пересечение)\n",
        "\n",
        "**The Map Function:** Превратите каждый кортеж $t$ в пары ключ-значение $(t, t)$.\n",
        "\n",
        "**The Reduce Function:** Если для ключа $t$ есть список из двух элементов $[t, t]$ $-$ создайте пару $(t, t)$. Иначе, ничего не создавайте."
      ]
    },
    {
      "cell_type": "code",
      "metadata": {
        "id": "XKlBZh4IwERR",
        "colab": {
          "base_uri": "https://localhost:8080/"
        },
        "outputId": "78a29091-1022-4840-98e0-4daf19d70f21"
      },
      "source": [
        "#Возвращает 2 кортежа в качестве ключ-значение\n",
        "def MAP(_, row:NamedTuple):\n",
        "  yield (row, row)\n",
        "\n",
        "#Возвращает 2 кортежа в качестве ключ-значение если длина = 2\n",
        "def REDUCE(row1:NamedTuple, row2:NamedTuple):\n",
        "  if (len(row2) == 2):\n",
        "    yield (row1, row2[0])\n",
        "\n",
        "#Чтение из двух таблиц\n",
        "def RECORDREADER():\n",
        "  return [(f.flight_id, f) for f in FlightsBoard_1 + FlightsBoard_2]\n",
        "\n",
        "output = MapReduce(RECORDREADER, MAP, REDUCE)\n",
        "output = list(output)\n",
        "output"
      ],
      "execution_count": null,
      "outputs": [
        {
          "output_type": "execute_result",
          "data": {
            "text/plain": [
              "[(flight(flight_id=123, terminal='A', destination='Dubai', time='20/04/24 16:30', gate=11, status='check-in'),\n",
              "  flight(flight_id=123, terminal='A', destination='Dubai', time='20/04/24 16:30', gate=11, status='check-in'))]"
            ]
          },
          "metadata": {},
          "execution_count": 212
        }
      ]
    },
    {
      "cell_type": "markdown",
      "metadata": {
        "id": "AVOpqoY3wE5k"
      },
      "source": [
        "### Difference (Разница)\n",
        "\n",
        "**The Map Function:** Для кортежа $t \\in R$, создайте пару $(t, R)$, и для кортежа $t \\in S$, создайте пару $(t, S)$. Задумка заключается в том, чтобы значение пары было именем отношения $R$ or $S$, которому принадлежит кортеж (а лучше, единичный бит, по которому можно два отношения различить $R$ or $S$), а не весь набор атрибутов отношения.\n",
        "\n",
        "**The Reduce Function:** Для каждого ключа $t$, если соответствующее значение является списком $[R]$, создайте пару $(t, t)$. В иных случаях не предпринимайте действий."
      ]
    },
    {
      "cell_type": "code",
      "metadata": {
        "id": "QE_AC09lwZIZ",
        "colab": {
          "base_uri": "https://localhost:8080/"
        },
        "outputId": "48871e18-4cd1-4301-befb-8720f2bb9a00"
      },
      "source": [
        "#Возвращаем кортеж, 0 если принадлежит первой таблице, а кортеж и 1 если второй таблице\n",
        "def MAP(key, value):\n",
        "    if value in FlightsBoard_1:\n",
        "        yield (value, 0)\n",
        "    elif value in FlightsBoard_2:\n",
        "        yield (value, 1)\n",
        "\n",
        "#Возвращает 2 кортежа в качестве ключ-значение если является списком R, то есть 0\n",
        "def REDUCE(key, rows):\n",
        "  if (rows == [0]):\n",
        "    yield (key, key)\n",
        "\n",
        "#Чтение данных\n",
        "def RECORDREADER():\n",
        "  return [(f.flight_id, f) for f in FlightsBoard_1 + FlightsBoard_2]\n",
        "\n",
        "output = MapReduce(RECORDREADER, MAP, REDUCE)\n",
        "output = list(sorted(output))\n",
        "output"
      ],
      "execution_count": null,
      "outputs": [
        {
          "output_type": "execute_result",
          "data": {
            "text/plain": [
              "[(flight(flight_id=456, terminal='C', destination='Maldives', time='20/04/24 18:30', gate=5, status='check-in'),\n",
              "  flight(flight_id=456, terminal='C', destination='Maldives', time='20/04/24 18:30', gate=5, status='check-in')),\n",
              " (flight(flight_id=765, terminal='A', destination='Dubai', time='20/04/24 18:30', gate=10, status='departed'),\n",
              "  flight(flight_id=765, terminal='A', destination='Dubai', time='20/04/24 18:30', gate=10, status='departed')),\n",
              " (flight(flight_id=987, terminal='B', destination='Bali', time='20/04/24 17:30', gate=6, status='boarding'),\n",
              "  flight(flight_id=987, terminal='B', destination='Bali', time='20/04/24 17:30', gate=6, status='boarding'))]"
            ]
          },
          "metadata": {},
          "execution_count": 213
        }
      ]
    },
    {
      "cell_type": "markdown",
      "metadata": {
        "id": "j8I58V2VwhSm"
      },
      "source": [
        "### Natural Join\n",
        "\n",
        "**The Map Function:** Для каждого кортежа $(a, b)$ отношения $R$, создайте пару $(b,(R, a))$. Для каждого кортежа $(b, c)$ отношения $S$, создайте пару $(b,(S, c))$.\n",
        "\n",
        "**The Reduce Function:** Каждый ключ $b$ будет асоциирован со списком пар, которые принимают форму либо $(R, a)$, либо $(S, c)$. Создайте все пары, одни, состоящие из  первого компонента $R$, а другие, из первого компонента $S$, то есть $(R, a)$ и $(S, c)$. На выходе вы получаете последовательность пар ключ-значение из списков ключей и значений. Ключ не нужен. Каждое значение, это тройка $(a, b, c)$ такая, что $(R, a)$ и $(S, c)$ это принадлежат входному списку значений."
      ]
    },
    {
      "cell_type": "code",
      "metadata": {
        "id": "yHiuuTctw86I"
      },
      "source": [
        "#Создадим класс билет\n",
        "class Ticket(NamedTuple):\n",
        "  passenger: str\n",
        "  flight_id: int\n",
        "  price: float\n",
        "  seat_number: str\n",
        "\n",
        "tickets = [\n",
        "    Ticket('Passenger 1', 123, 299.99, '14A'),\n",
        "    Ticket('Passenger 2', 456, 375.50, '22B'),\n",
        "    Ticket('Passenger 3', 789, 425.75, '9C'),\n",
        "    Ticket('Passenger 4', 123, 319.00, '18D'),\n",
        "    Ticket('Passenger 5', 567, 399.25, '27E')\n",
        "]"
      ],
      "execution_count": null,
      "outputs": []
    },
    {
      "cell_type": "code",
      "source": [
        "#Создаем пары (b,(R,a)) и (b,(S,c))\n",
        "#Пусть а = destination , b = flight_id, c = passenger\n",
        "def MAP(_, row:NamedTuple):\n",
        "  if ((row in FlightsBoard_1) or (row in FlightsBoard_2)):\n",
        "      yield (row.flight_id, (0, (row.destination)))\n",
        "  elif (row in tickets) and row.flight_id in [row1.flight_id for row1 in FlightsBoard_1 + FlightsBoard_2]:\n",
        "    yield (row.flight_id, (1, (row.passenger)))\n",
        "\n",
        "def REDUCE(key, info:NamedTuple):\n",
        "  for rowS in info:\n",
        "    if (rowS[0] == 1):\n",
        "      for rowR in info:\n",
        "        if (rowR[0] == 0):\n",
        "          yield (None, (rowR[1], key, rowS[1]))\n",
        "\n",
        "#Чтение данных с таблиц\n",
        "def RECORDREADER():\n",
        "  return [(f.flight_id, f) for f in FlightsBoard_1 + FlightsBoard_2+tickets]\n",
        "\n",
        "output = MapReduce(RECORDREADER, MAP, REDUCE)\n",
        "output = list(output)\n",
        "output"
      ],
      "metadata": {
        "colab": {
          "base_uri": "https://localhost:8080/"
        },
        "id": "GVhLhjurb7wq",
        "outputId": "8aa6dced-657d-4dfa-dd71-84165137c2d4"
      },
      "execution_count": null,
      "outputs": [
        {
          "output_type": "execute_result",
          "data": {
            "text/plain": [
              "[(None, ('Dubai', 123, 'Passenger 1')),\n",
              " (None, ('Dubai', 123, 'Passenger 1')),\n",
              " (None, ('Dubai', 123, 'Passenger 4')),\n",
              " (None, ('Dubai', 123, 'Passenger 4')),\n",
              " (None, ('Maldives', 456, 'Passenger 2')),\n",
              " (None, ('Bali', 456, 'Passenger 2')),\n",
              " (None, ('Maldives', 789, 'Passenger 3'))]"
            ]
          },
          "metadata": {},
          "execution_count": 215
        }
      ]
    },
    {
      "cell_type": "markdown",
      "metadata": {
        "id": "kYdlr0YUxE27"
      },
      "source": [
        "### Grouping and Aggregation (Группировка и аггрегация)\n",
        "\n",
        "**The Map Function:** Для каждого кортежа $(a, b, c$) создайте пару $(a, b)$.\n",
        "\n",
        "**The Reduce Function:** Ключ представляет ту или иную группу. Примение аггрегирующую операцию $\\theta$ к списку значений $[b1, b2, . . . , bn]$ ассоциированных с ключом $a$. Возвращайте в выходной поток $(a, x)$, где $x$ результат применения  $\\theta$ к списку. Например, если $\\theta$ это $SUM$, тогда $x = b1 + b2 + · · · + bn$, а если $\\theta$ is $MAX$, тогда $x$ это максимальное из значений $b1, b2, . . . , bn$."
      ]
    },
    {
      "cell_type": "code",
      "metadata": {
        "id": "MLPckfEGxico",
        "colab": {
          "base_uri": "https://localhost:8080/"
        },
        "outputId": "22fda394-695c-47e8-e165-3ccc4eee9aa2"
      },
      "source": [
        "#Создаем пару номер рейса и цена билета\n",
        "def MAP(key, value):\n",
        "  yield (value.flight_id, value.price)\n",
        "\n",
        "#Вычисляем среднюю цену по каждому рейсу\n",
        "def REDUCE(key, rows):\n",
        "  yield (key, sum(rows) / len(rows))\n",
        "\n",
        "#Считываем данные\n",
        "def RECORDREADER():\n",
        "  return [(f.flight_id, f) for f in tickets]\n",
        "\n",
        "output = MapReduce(RECORDREADER, MAP, REDUCE)\n",
        "output = list(sorted(output))\n",
        "output"
      ],
      "execution_count": null,
      "outputs": [
        {
          "output_type": "execute_result",
          "data": {
            "text/plain": [
              "[(123, 309.495), (456, 375.5), (567, 399.25), (789, 425.75)]"
            ]
          },
          "metadata": {},
          "execution_count": 216
        }
      ]
    },
    {
      "cell_type": "markdown",
      "metadata": {
        "id": "03IffTEOJgOb"
      },
      "source": [
        "#"
      ]
    },
    {
      "cell_type": "markdown",
      "metadata": {
        "id": "IIrRgvG4RIS4"
      },
      "source": [
        "### Matrix-Vector multiplication\n",
        "\n",
        "Случай, когда вектор не помещается в памяти Map задачи\n"
      ]
    },
    {
      "cell_type": "code",
      "metadata": {
        "id": "KQhDbiL3zS9r",
        "colab": {
          "base_uri": "https://localhost:8080/"
        },
        "outputId": "4c348f0b-524c-47a9-826a-7637164fbe58"
      },
      "source": [
        "from typing import Iterator\n",
        "import numpy as np\n",
        "\n",
        "d = 4 #Размер матрицы\n",
        "mat = np.ones((d+1,d)) #Создание матрицы из единиц\n",
        "vec1 = np.random.rand(d//2) #Генерация векторов\n",
        "vec2 = np.random.rand(d-d//2)\n",
        "\n",
        "#Принимает координаты и значение\n",
        "#Выдает новое значение, умноженное на эл-т vec1 или vec2 в зависимости от индекса j\n",
        "def MAP(coordinates:(int, int), value:int):\n",
        "  i, j = coordinates\n",
        "  if (j < len(vec1)):\n",
        "    yield (i, value*vec1[j])\n",
        "  else:\n",
        "    yield (i, value*vec2[j-len(vec1)])\n",
        "#Принимает индекс строки i и преобразованные значения из строки\n",
        "#Суммирует значения и выдает кортеж\n",
        "def REDUCE(i:int, products:Iterator[NamedTuple]):\n",
        "  sum = 0\n",
        "  for p in products:\n",
        "    sum += p\n",
        "  yield (i, sum)\n",
        "\n",
        "#Выдает координаты и значение mat[i,j] для каждого элемента матрицы\n",
        "def RECORDREADER():\n",
        "  for i in range(mat.shape[0]):\n",
        "    for j in range(mat.shape[1]):\n",
        "      yield ((i, j), mat[i,j])\n",
        "\n",
        "output = MapReduce(RECORDREADER, MAP, REDUCE)\n",
        "output = list(output)\n",
        "output"
      ],
      "execution_count": null,
      "outputs": [
        {
          "output_type": "execute_result",
          "data": {
            "text/plain": [
              "[(0, 1.381588273133806),\n",
              " (1, 1.381588273133806),\n",
              " (2, 1.381588273133806),\n",
              " (3, 1.381588273133806),\n",
              " (4, 1.381588273133806)]"
            ]
          },
          "metadata": {},
          "execution_count": 217
        }
      ]
    },
    {
      "cell_type": "markdown",
      "metadata": {
        "id": "GIo2t7nNxvA9"
      },
      "source": [
        "## Matrix multiplication (Перемножение матриц)\n",
        "\n",
        "Если у нас есть матрица $M$ с элементами $m_{ij}$ в строке $i$ и столбце $j$, и матрица $N$ с элементами $n_{jk}$ в строке $j$ и столбце $k$, тогда их произведение $P = MN$ есть матрица $P$ с элементами $p_{ik}$ в строке $i$ и столбце $k$, где\n",
        "\n",
        "$$p_{ik} =\\sum_{j} m_{ij}n_{jk}$$\n",
        "\n",
        "Необходимым требованием является одинаковое количество столбцов в $M$ и строк в $N$, чтобы операция суммирования по  $j$ была осмысленной. Мы можем размышлять о матрице, как об отношении с тремя атрибутами: номер строки, номер столбца, само значение. Таким образом матрица $M$ предстваляется как отношение $ M(I, J, V )$, с кортежами $(i, j, m_{ij})$, и, аналогично, матрица $N$ представляется как отношение $N(J, K, W)$, с кортежами $(j, k, n_{jk})$. Так как большие матрицы как правило разреженные (большинство значений равно 0), и так как мы можем нулевыми значениями пренебречь (не хранить), такое реляционное представление достаточно эффективно для больших матриц. Однако, возможно, что координаты $i$, $j$, и $k$ неявно закодированы в смещение позиции элемента относительно начала файла, вместо явного хранения. Тогда, функция Map (или Reader) должна быть разработана таким образом, чтобы реконструировать компоненты $I$, $J$, и $K$ кортежей из смещения.\n",
        "\n",
        "Произведение $MN$ это фактически join, за которым следуют группировка по ключу и аггрегация. Таким образом join отношений $M(I, J, V )$ и $N(J, K, W)$, имеющих общим только атрибут $J$, создаст кортежи $(i, j, k, v, w)$ из каждого кортежа $(i, j, v) \\in M$ и кортежа $(j, k, w) \\in N$. Такой 5 компонентный кортеж представляет пару элементов матрицы $(m_{ij} , n_{jk})$. Что нам хотелось бы получить на самом деле, это произведение этих элементов, то есть, 4 компонентный кортеж$(i, j, k, v \\times w)$, так как он представляет произведение $m_{ij}n_{jk}$. Мы представляем отношение как результат одной MapReduce операции, в которой мы можем произвести группировку и аггрегацию, с $I$ и $K$  атрибутами, по которым идёт группировка, и суммой  $V \\times W$.\n",
        "\n",
        "\n",
        "\n"
      ]
    },
    {
      "cell_type": "code",
      "metadata": {
        "id": "1MBkGaLAYVCt"
      },
      "source": [
        "# MapReduce model\n",
        "def flatten(nested_iterable):\n",
        "  for iterable in nested_iterable:\n",
        "    for element in iterable:\n",
        "      yield element\n",
        "\n",
        "def groupbykey(iterable):\n",
        "  t = {}\n",
        "  for (k2, v2) in iterable:\n",
        "    t[k2] = t.get(k2, []) + [v2]\n",
        "  return t.items()\n",
        "\n",
        "def MapReduce(RECORDREADER, MAP, REDUCE):\n",
        "  return flatten(map(lambda x: REDUCE(*x), groupbykey(flatten(map(lambda x: MAP(*x), RECORDREADER())))))"
      ],
      "execution_count": null,
      "outputs": []
    },
    {
      "cell_type": "markdown",
      "metadata": {
        "id": "sMspsOT0ZB35"
      },
      "source": [
        "Реализуйте перемножение матриц с использованием модельного кода MapReduce для одной машины в случае, когда одна матрица хранится в памяти, а другая генерируется RECORDREADER-ом."
      ]
    },
    {
      "cell_type": "code",
      "metadata": {
        "id": "psP1XekbsEjS"
      },
      "source": [
        "import numpy as np\n",
        "I = 2\n",
        "J = 3\n",
        "K = 4*10\n",
        "small_mat = np.random.rand(I,J) # it is legal to access this from RECORDREADER, MAP, REDUCE\n",
        "big_mat = np.random.rand(J,K)\n",
        "\n",
        "def RECORDREADER():\n",
        "  for j in range(big_mat.shape[0]):\n",
        "    for k in range(big_mat.shape[1]):\n",
        "      yield ((j,k), big_mat[j,k])\n",
        "\n",
        "def MAP(k1, v1):\n",
        "  (j, k) = k1\n",
        "  w = v1\n",
        "  for i in range(small_mat.shape[0]):\n",
        "    v2 = (small_mat[i][j]*w)\n",
        "    k2 = (i, k)\n",
        "    yield (k2, v2)\n",
        "  # solution code that yield(k2,v2) pairs\n",
        "\n",
        "def REDUCE(key, values):\n",
        "  (i, k) = key\n",
        "  yield (key, sum(values))\n",
        "  # solution code that yield(k3,v3) pairs"
      ],
      "execution_count": null,
      "outputs": []
    },
    {
      "cell_type": "markdown",
      "metadata": {
        "id": "rnt306LHhHrm"
      },
      "source": [
        "Проверьте своё решение"
      ]
    },
    {
      "cell_type": "code",
      "metadata": {
        "id": "Ewy_ZNYqW5a2",
        "colab": {
          "base_uri": "https://localhost:8080/"
        },
        "outputId": "609b5870-51d5-40f8-957a-439b33ca1547"
      },
      "source": [
        "# CHECK THE SOLUTION\n",
        "reference_solution = np.matmul(small_mat, big_mat)\n",
        "solution = MapReduce(RECORDREADER, MAP, REDUCE)\n",
        "\n",
        "def asmatrix(reduce_output):\n",
        "  reduce_output = list(reduce_output)\n",
        "  I = max(i for ((i,k), vw) in reduce_output)+1\n",
        "  K = max(k for ((i,k), vw) in reduce_output)+1\n",
        "  mat = np.empty(shape=(I,K))\n",
        "  for ((i,k), vw) in reduce_output:\n",
        "    mat[i,k] = vw\n",
        "  return mat\n",
        "\n",
        "np.allclose(reference_solution, asmatrix(solution)) # should return true"
      ],
      "execution_count": null,
      "outputs": [
        {
          "output_type": "execute_result",
          "data": {
            "text/plain": [
              "True"
            ]
          },
          "metadata": {},
          "execution_count": 220
        }
      ]
    },
    {
      "cell_type": "code",
      "metadata": {
        "id": "TK7v4CEcfxqf",
        "colab": {
          "base_uri": "https://localhost:8080/"
        },
        "outputId": "a2e6aaaf-4055-4310-faf0-4dd7bf53614e"
      },
      "source": [
        "reduce_output = list(MapReduce(RECORDREADER, MAP, REDUCE))\n",
        "max(i for ((i,k), vw) in reduce_output)"
      ],
      "execution_count": null,
      "outputs": [
        {
          "output_type": "execute_result",
          "data": {
            "text/plain": [
              "1"
            ]
          },
          "metadata": {},
          "execution_count": 221
        }
      ]
    },
    {
      "cell_type": "markdown",
      "metadata": {
        "id": "i4yyg3kOZqJJ"
      },
      "source": [
        "Реализуйте перемножение матриц  с использованием модельного кода MapReduce для одной машины в случае, когда обе матрицы генерируются в RECORDREADER. Например, сначала одна, а потом другая."
      ]
    },
    {
      "cell_type": "code",
      "metadata": {
        "id": "3B7rIAJCaHZq"
      },
      "source": [
        "import numpy as np\n",
        "I = 2\n",
        "J = 3\n",
        "K = 4*10\n",
        "small_mat = np.random.rand(I,J) # it is legal to access this from RECORDREADER, MAP, REDUCE\n",
        "big_mat = np.random.rand(J,K)\n",
        "\n",
        "def RECORDREADER():\n",
        "  for i in range(small_mat.shape[0]):\n",
        "    for j in range(big_mat.shape[0]):\n",
        "      for k in range(big_mat.shape[1]):\n",
        "        yield (((i,j), small_mat[i,j]),((j,k), big_mat[j,k]))\n",
        "\n",
        "def MAP(list1, list2):\n",
        "  (k1, v1) = list1\n",
        "  (k2, v2) = list2\n",
        "  yield ((k1[0], k2[1]), v1*v2)\n",
        "\n",
        "def REDUCE(key, values):\n",
        "  (i, k) = key\n",
        "  yield (key, sum(values))"
      ],
      "execution_count": null,
      "outputs": []
    },
    {
      "cell_type": "code",
      "source": [
        "# CHECK THE SOLUTION\n",
        "reference_solution = np.matmul(small_mat, big_mat)\n",
        "solution = MapReduce(RECORDREADER, MAP, REDUCE)\n",
        "\n",
        "def asmatrix(reduce_output):\n",
        "  reduce_output = list(reduce_output)\n",
        "  I = max(i for ((i,k), vw) in reduce_output)+1\n",
        "  K = max(k for ((i,k), vw) in reduce_output)+1\n",
        "  mat = np.empty(shape=(I,K))\n",
        "  for ((i,k), vw) in reduce_output:\n",
        "    mat[i,k] = vw\n",
        "  return mat\n",
        "\n",
        "np.allclose(reference_solution, asmatrix(solution)) # should return true"
      ],
      "metadata": {
        "colab": {
          "base_uri": "https://localhost:8080/"
        },
        "id": "wvcJPGjJSBXJ",
        "outputId": "95f5b731-1cb2-446a-be33-7e56974b9bd5"
      },
      "execution_count": null,
      "outputs": [
        {
          "output_type": "execute_result",
          "data": {
            "text/plain": [
              "True"
            ]
          },
          "metadata": {},
          "execution_count": 223
        }
      ]
    },
    {
      "cell_type": "markdown",
      "metadata": {
        "id": "mXyzQi1DaIwo"
      },
      "source": [
        "Реализуйте перемножение матриц с использованием модельного кода MapReduce Distributed, когда каждая матрица генерируется в своём RECORDREADER."
      ]
    },
    {
      "cell_type": "code",
      "metadata": {
        "id": "TDM_s78Rb5eR",
        "colab": {
          "base_uri": "https://localhost:8080/"
        },
        "outputId": "beecc94a-636e-4452-a5a3-d0a02ebbeaa5"
      },
      "source": [
        "import numpy as np\n",
        "\n",
        "I = 2\n",
        "J = 3\n",
        "K = 4*10\n",
        "\n",
        "maps = 2\n",
        "reducers = 3\n",
        "\n",
        "small_mat = np.random.rand(I, J)\n",
        "big_mat = np.random.rand(J, K)\n",
        "\n",
        "def INPUTFORMAT():\n",
        "  def RECORDREADER(key, split):\n",
        "    mat = []\n",
        "    for i in range(split.shape[0]):\n",
        "      for j in range(split.shape[1]):\n",
        "        mat.append(((key, i, j), split[i, j]))\n",
        "    return mat\n",
        "\n",
        "  list1 = RECORDREADER('S', small_mat)\n",
        "  list2 = RECORDREADER('B', big_mat)\n",
        "  yield list1\n",
        "  yield list2\n",
        "\n",
        "\n",
        "def MAP(k, v):\n",
        "  (mat, i, j) = k\n",
        "  w = v\n",
        "  if mat == 'S':\n",
        "    yield (j, (mat, i, w))\n",
        "  else:\n",
        "    yield (i, (mat, j, w))\n",
        "\n",
        "def REDUCE(key, values):\n",
        "  small = [v for v in values if v[0] == 'S']\n",
        "  big = [v for v in values if v[0] == 'B']\n",
        "  for s in small:\n",
        "    for b in big:\n",
        "      yield ((s[1], b[1]), s[2] * b[2])\n",
        "\n",
        "def INPUT_MUL():\n",
        "  for j in joined:\n",
        "    yield j[1]\n",
        "\n",
        "def MAP_MUL(k1, v1):\n",
        "  yield (k1, v1)\n",
        "\n",
        "def REDUCE_MUL(key, values):\n",
        "  res_val = 0\n",
        "  for v in values:\n",
        "    res_val += v\n",
        "  yield (key, res_val)\n",
        "\n",
        "partitioned_output = MapReduceDistributed(INPUTFORMAT, MAP, REDUCE, COMBINER=None)\n",
        "joined = [(partition_id, list(partition)) for (partition_id, partition) in partitioned_output]\n",
        "\n",
        "mul_output = MapReduceDistributed(INPUT_MUL, MAP_MUL, REDUCE_MUL, COMBINER=None)\n",
        "pre_result = [(partition_id, list(partition)) for (partition_id, partition) in mul_output]\n",
        "\n",
        "solution = []\n",
        "for p in pre_result:\n",
        "  for v in p[1]:\n",
        "    solution.append(v)"
      ],
      "execution_count": null,
      "outputs": [
        {
          "output_type": "stream",
          "name": "stdout",
          "text": [
            "126 key-value pairs were sent over a network.\n",
            "240 key-value pairs were sent over a network.\n"
          ]
        }
      ]
    },
    {
      "cell_type": "code",
      "source": [
        "# CHECK THE SOLUTION\n",
        "reference_solution = np.matmul(small_mat, big_mat)\n",
        "\n",
        "def asmatrix(reduce_output):\n",
        "  reduce_output = list(reduce_output)\n",
        "  I = max(i for ((i,k), vw) in reduce_output)+1\n",
        "  K = max(k for ((i,k), vw) in reduce_output)+1\n",
        "  mat = np.empty(shape=(I,K))\n",
        "  for ((i,k), vw) in reduce_output:\n",
        "    mat[i,k] = vw\n",
        "  return mat\n",
        "\n",
        "np.allclose(reference_solution, asmatrix(solution)) # should return true"
      ],
      "metadata": {
        "colab": {
          "base_uri": "https://localhost:8080/"
        },
        "id": "NYyLuwIpSI7n",
        "outputId": "e006d690-6d87-4c0c-fb49-d7270a745e49"
      },
      "execution_count": null,
      "outputs": [
        {
          "output_type": "execute_result",
          "data": {
            "text/plain": [
              "True"
            ]
          },
          "metadata": {},
          "execution_count": 225
        }
      ]
    },
    {
      "cell_type": "markdown",
      "metadata": {
        "id": "ZuSA2P9Db6UM"
      },
      "source": [
        "Обобщите предыдущее решение на случай, когда каждая матрица генерируется несколькими RECORDREADER-ами, и проверьте его работоспособность. Будет ли работать решение, если RECORDREADER-ы будут генерировать случайное подмножество элементов матрицы?"
      ]
    },
    {
      "cell_type": "code",
      "metadata": {
        "id": "ehN0FqRDcwU5",
        "colab": {
          "base_uri": "https://localhost:8080/"
        },
        "outputId": "1d25fca2-cf62-43ab-858a-ee613ac5655f"
      },
      "source": [
        "import numpy as np\n",
        "\n",
        "I = 2\n",
        "J = 3\n",
        "K = 4*10\n",
        "\n",
        "maps = 2\n",
        "reducers = 3\n",
        "\n",
        "small_mat = np.random.rand(I, J)\n",
        "big_mat = np.random.rand(J, K)\n",
        "\n",
        "def INPUTFORMAT():\n",
        "  global maps\n",
        "  def RECORDREADER(key, split):\n",
        "    mat = []\n",
        "    for i in range(split.shape[0]):\n",
        "      for j in range(split.shape[1]):\n",
        "        mat.append(((key, i, j), split[i, j]))\n",
        "    return mat\n",
        "\n",
        "  small = RECORDREADER('S', small_mat)\n",
        "  split_size =  int(np.ceil(len(small)/maps))\n",
        "  for i in range(0, len(small), split_size):\n",
        "    yield small[i:i+split_size]\n",
        "\n",
        "  big = RECORDREADER('B', big_mat)\n",
        "  split_size =  int(np.ceil(len(big)/maps))\n",
        "  for i in range(0, len(big), split_size):\n",
        "    yield big[i:i+split_size]\n",
        "\n",
        "def MAP(k, v):\n",
        "  (mat, i, j) = k\n",
        "  w = v\n",
        "  if mat == 'S':\n",
        "    yield (j, (mat, i, w))\n",
        "  else:\n",
        "    yield (i, (mat, j, w))\n",
        "\n",
        "def REDUCE(key, values):\n",
        "  small = [v for v in values if v[0] == 'S']\n",
        "  big = [v for v in values if v[0] == 'B']\n",
        "  for s in small:\n",
        "    for b in big:\n",
        "      yield ((s[1], b[1]), s[2] * b[2])\n",
        "\n",
        "def INPUT_MUL():\n",
        "  for j in joined:\n",
        "    yield j[1]\n",
        "\n",
        "def MAP_MUL(k1, v1):\n",
        "  yield (k1, v1)\n",
        "\n",
        "def REDUCE_MUL(key, values):\n",
        "  res_val = 0\n",
        "  for v in values:\n",
        "    res_val += v\n",
        "  yield (key, res_val)\n",
        "\n",
        "partitioned_output = MapReduceDistributed(INPUTFORMAT, MAP, REDUCE, COMBINER=None)\n",
        "joined = [(partition_id, list(partition)) for (partition_id, partition) in partitioned_output]\n",
        "\n",
        "mul_output = MapReduceDistributed(INPUT_MUL, MAP_MUL, REDUCE_MUL, COMBINER=None)\n",
        "pre_result = [(partition_id, list(partition)) for (partition_id, partition) in mul_output]\n",
        "\n",
        "solution = []\n",
        "for p in pre_result:\n",
        "  for v in p[1]:\n",
        "    solution.append(v)\n"
      ],
      "execution_count": null,
      "outputs": [
        {
          "output_type": "stream",
          "name": "stdout",
          "text": [
            "126 key-value pairs were sent over a network.\n",
            "240 key-value pairs were sent over a network.\n"
          ]
        }
      ]
    },
    {
      "cell_type": "code",
      "source": [
        "# CHECK THE SOLUTION\n",
        "reference_solution = np.matmul(small_mat, big_mat)\n",
        "\n",
        "def asmatrix(reduce_output):\n",
        "  reduce_output = list(reduce_output)\n",
        "  I = max(i for ((i,k), vw) in reduce_output)+1\n",
        "  K = max(k for ((i,k), vw) in reduce_output)+1\n",
        "  mat = np.empty(shape=(I,K))\n",
        "  for ((i,k), vw) in reduce_output:\n",
        "    mat[i,k] = vw\n",
        "  return mat\n",
        "\n",
        "np.allclose(reference_solution, asmatrix(solution)) # should return true"
      ],
      "metadata": {
        "colab": {
          "base_uri": "https://localhost:8080/"
        },
        "id": "jeBdzY5xR4Ma",
        "outputId": "39380534-0b7d-4d40-9bac-a5205011c2bb"
      },
      "execution_count": null,
      "outputs": [
        {
          "output_type": "execute_result",
          "data": {
            "text/plain": [
              "True"
            ]
          },
          "metadata": {},
          "execution_count": 227
        }
      ]
    }
  ]
}