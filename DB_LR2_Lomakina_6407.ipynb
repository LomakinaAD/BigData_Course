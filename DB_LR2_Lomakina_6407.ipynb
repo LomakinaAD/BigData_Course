{
  "nbformat": 4,
  "nbformat_minor": 0,
  "metadata": {
    "colab": {
      "provenance": []
    },
    "kernelspec": {
      "display_name": "Python 3",
      "language": "python",
      "name": "python3"
    },
    "language_info": {
      "codemirror_mode": {
        "name": "ipython",
        "version": 3
      },
      "file_extension": ".py",
      "mimetype": "text/x-python",
      "name": "python",
      "nbconvert_exporter": "python",
      "pygments_lexer": "ipython3",
      "version": "3.6.5"
    }
  },
  "cells": [
    {
      "cell_type": "markdown",
      "source": [
        "# ЛР2 Формирование отчётов в Apache Spark"
      ],
      "metadata": {
        "id": "4f3H_Rm8y0rM"
      }
    },
    {
      "cell_type": "markdown",
      "metadata": {
        "id": "iox_ufgbqDXa"
      },
      "source": [
        "Инициализация и загрузка необходимых библиотек и других элементов"
      ]
    },
    {
      "cell_type": "code",
      "source": [
        "!pip install pyspark\n",
        "import pyspark\n",
        "import os\n",
        "\n",
        "from pyspark.sql.functions import col\n",
        "from pyspark.sql import SparkSession\n",
        "from pyspark import SparkContext, SparkConf\n",
        "from pyspark.sql.types import StructType, StructField, StringType, DateType\n",
        "\n",
        "#Чтение данных из CSV и XML файлов в Apache Spark, а также преобразование DataFrame в список строк.\n",
        "sc = SparkSession.builder.appName(\"Lab2\").config(\"spark.jars.packages\", \"com.databricks:spark-xml_2.12:0.13.0\").getOrCreate()\n",
        "languages = sc.read.csv(\"/content/programming-languages.csv\")\n",
        "languages = [str(x[0]) for x in languages.collect()]\n",
        "posts = sc.read.format('xml').options(rowTag='row').load(\"/content/posts_sample.xml\")"
      ],
      "metadata": {
        "id": "oMUGZXihM-Bn",
        "colab": {
          "base_uri": "https://localhost:8080/"
        },
        "outputId": "13b57e05-9c8a-402f-f011-be190ff0df84"
      },
      "execution_count": null,
      "outputs": [
        {
          "output_type": "stream",
          "name": "stdout",
          "text": [
            "Requirement already satisfied: pyspark in /usr/local/lib/python3.10/dist-packages (3.5.1)\n",
            "Requirement already satisfied: py4j==0.10.9.7 in /usr/local/lib/python3.10/dist-packages (from pyspark) (0.10.9.7)\n"
          ]
        }
      ]
    },
    {
      "cell_type": "markdown",
      "source": [
        "Задание:\\\n",
        "Сформировать отчёт с информацией о 10 наиболее популярных языках программирования по итогам года за период с 2010 по 2020 годы. Отчёт будет отражать динамику изменения популярности языков программирования и представлять собой набор таблиц \"топ-10\" для каждого года.\n",
        "\n",
        "Получившийся отчёт сохранить в формате Apache Parquet.\n",
        "\n",
        "Для выполнения задания вы можете использовать любую комбинацию Spark API: RDD API, Dataset API, SQL API."
      ],
      "metadata": {
        "id": "5TBgfuHYykY1"
      }
    },
    {
      "cell_type": "code",
      "source": [
        "from datetime import datetime\n",
        "#Фильтрация объектов по году создания\n",
        "def get_year(x, year):\n",
        "  return x._CreationDate >= datetime(year=year, month=1, day=1) and x._CreationDate <= datetime(year=year, month=12, day=31)\n",
        "\n",
        "def text_lower(x):\n",
        "  tag = next((language for language in languages if \"<\" + language.lower()+ \">\" in x._Tags.lower()), None)\n",
        "  return (x._Id, tag) if tag is not None else None\n",
        "\n",
        "dataframe = {}\n",
        "\n",
        "def create_df(year):\n",
        "      #Проверка на наличие тэга и года\n",
        "      #Преобрзование в нижний регистр, создание кортежа, если найден язык, убираем пустые значения\n",
        "      #Группировка по значению в кортеже и агреггация\n",
        "      #Сортировка по убыванию и формирование dataframe\n",
        "  dataframe[year] = posts.rdd.filter(lambda x: x._Tags is not None and get_year(x, year))\\\n",
        "      .map(text_lower).filter(lambda x: x is not None)\\\n",
        "      .keyBy(lambda x: x[1]).aggregateByKey(0, lambda x, y: x + 1, lambda x1, x2: x1 + x2)\\\n",
        "      .sortBy(lambda x: x[1], ascending=False).toDF()\n",
        "  dataframe[year] = dataframe[year].select(col(\"_1\").alias(\"Lang\"),col(\"_2\").alias(f\"Count_in_{year}\")).limit(10)\n",
        "  dataframe[year].show()"
      ],
      "metadata": {
        "id": "UEugO35IKflk"
      },
      "execution_count": null,
      "outputs": []
    },
    {
      "cell_type": "code",
      "source": [
        "#Формируем отчет за 2010-2020 года\n",
        "for y in range(2010, 2020):\n",
        "  create_df(y)\n",
        "\n",
        "#Сохраняем в формате\n",
        "for year in dataframe.keys():\n",
        "    dataframe[year].write.format(\"parquet\").save(f\"/content/info_from_{year}\")"
      ],
      "metadata": {
        "colab": {
          "base_uri": "https://localhost:8080/",
          "height": 1000
        },
        "id": "pZKsjszA3WeH",
        "outputId": "ff71c693-160d-4deb-a065-6bf8a955a214"
      },
      "execution_count": null,
      "outputs": [
        {
          "output_type": "stream",
          "name": "stdout",
          "text": [
            "+-----------+-------------+\n",
            "|       Lang|Count_in_2010|\n",
            "+-----------+-------------+\n",
            "| JavaScript|           20|\n",
            "|       Java|           15|\n",
            "|        PHP|           15|\n",
            "|          C|            8|\n",
            "|Objective-C|            7|\n",
            "|       Ruby|            5|\n",
            "|     Python|            5|\n",
            "|       Bash|            2|\n",
            "|     Delphi|            2|\n",
            "|       Perl|            2|\n",
            "+-----------+-------------+\n",
            "\n",
            "+-----------+-------------+\n",
            "|       Lang|Count_in_2011|\n",
            "+-----------+-------------+\n",
            "|       Java|           32|\n",
            "|        PHP|           25|\n",
            "| JavaScript|           18|\n",
            "|          C|           10|\n",
            "|     Python|           10|\n",
            "|Objective-C|            9|\n",
            "|       Perl|            6|\n",
            "|       Ruby|            5|\n",
            "| ColdFusion|            3|\n",
            "|       Bash|            2|\n",
            "+-----------+-------------+\n",
            "\n",
            "+-----------+-------------+\n",
            "|       Lang|Count_in_2012|\n",
            "+-----------+-------------+\n",
            "| JavaScript|           49|\n",
            "|        PHP|           48|\n",
            "|       Java|           47|\n",
            "|     Python|           23|\n",
            "|Objective-C|           14|\n",
            "|       Ruby|           11|\n",
            "|          C|           10|\n",
            "|       Bash|            6|\n",
            "|      Scala|            4|\n",
            "|       Curl|            3|\n",
            "+-----------+-------------+\n",
            "\n",
            "+-----------+-------------+\n",
            "|       Lang|Count_in_2013|\n",
            "+-----------+-------------+\n",
            "| JavaScript|           54|\n",
            "|       Java|           51|\n",
            "|        PHP|           45|\n",
            "|     Python|           20|\n",
            "|       Ruby|           13|\n",
            "|Objective-C|           11|\n",
            "|          C|            6|\n",
            "|      Scala|            3|\n",
            "|       Bash|            3|\n",
            "|          R|            3|\n",
            "+-----------+-------------+\n",
            "\n",
            "+-----------+-------------+\n",
            "|       Lang|Count_in_2014|\n",
            "+-----------+-------------+\n",
            "| JavaScript|           90|\n",
            "|       Java|           77|\n",
            "|        PHP|           51|\n",
            "|     Python|           40|\n",
            "|Objective-C|           21|\n",
            "|          C|           16|\n",
            "|       Ruby|            8|\n",
            "|          R|            6|\n",
            "|       Bash|            5|\n",
            "|      Scala|            4|\n",
            "+-----------+-------------+\n",
            "\n",
            "+-----------+-------------+\n",
            "|       Lang|Count_in_2015|\n",
            "+-----------+-------------+\n",
            "| JavaScript|           83|\n",
            "|       Java|           46|\n",
            "|        PHP|           38|\n",
            "|     Python|           22|\n",
            "|Objective-C|           13|\n",
            "|          C|           13|\n",
            "|          R|           13|\n",
            "|       Ruby|            5|\n",
            "|       Bash|            5|\n",
            "|      Scala|            5|\n",
            "+-----------+-------------+\n",
            "\n",
            "+----------+-------------+\n",
            "|      Lang|Count_in_2016|\n",
            "+----------+-------------+\n",
            "|JavaScript|           80|\n",
            "|      Java|           54|\n",
            "|    Python|           52|\n",
            "|       PHP|           47|\n",
            "|         R|           21|\n",
            "|         C|            7|\n",
            "|      Ruby|            7|\n",
            "|    MATLAB|            6|\n",
            "|      Bash|            5|\n",
            "|     Scala|            5|\n",
            "+----------+-------------+\n",
            "\n",
            "+----------+-------------+\n",
            "|      Lang|Count_in_2017|\n",
            "+----------+-------------+\n",
            "|JavaScript|           72|\n",
            "|    Python|           48|\n",
            "|      Java|           43|\n",
            "|       PHP|           29|\n",
            "|         R|           16|\n",
            "|      Ruby|            7|\n",
            "|      Bash|            7|\n",
            "|         C|            5|\n",
            "|TypeScript|            4|\n",
            "|PowerShell|            3|\n",
            "+----------+-------------+\n",
            "\n",
            "+----------+-------------+\n",
            "|      Lang|Count_in_2018|\n",
            "+----------+-------------+\n",
            "|    Python|           65|\n",
            "|JavaScript|           57|\n",
            "|      Java|           42|\n",
            "|       PHP|           21|\n",
            "|         R|           11|\n",
            "|     Scala|            5|\n",
            "|TypeScript|            5|\n",
            "|        Go|            4|\n",
            "|      Bash|            4|\n",
            "|         C|            3|\n",
            "+----------+-------------+\n",
            "\n",
            "+----------+-------------+\n",
            "|      Lang|Count_in_2019|\n",
            "+----------+-------------+\n",
            "|    Python|           42|\n",
            "|JavaScript|           37|\n",
            "|      Java|           26|\n",
            "|       PHP|           22|\n",
            "|         R|           13|\n",
            "|        Go|            5|\n",
            "|PowerShell|            5|\n",
            "|         C|            4|\n",
            "|    MATLAB|            4|\n",
            "|      Ruby|            4|\n",
            "+----------+-------------+\n",
            "\n"
          ]
        },
        {
          "output_type": "error",
          "ename": "AnalysisException",
          "evalue": "[PATH_ALREADY_EXISTS] Path file:/content/info_from_2010 already exists. Set mode as \"overwrite\" to overwrite the existing path.",
          "traceback": [
            "\u001b[0;31m---------------------------------------------------------------------------\u001b[0m",
            "\u001b[0;31mAnalysisException\u001b[0m                         Traceback (most recent call last)",
            "\u001b[0;32m<ipython-input-17-10ec192e49a5>\u001b[0m in \u001b[0;36m<cell line: 4>\u001b[0;34m()\u001b[0m\n\u001b[1;32m      3\u001b[0m \u001b[0;34m\u001b[0m\u001b[0m\n\u001b[1;32m      4\u001b[0m \u001b[0;32mfor\u001b[0m \u001b[0myear\u001b[0m \u001b[0;32min\u001b[0m \u001b[0mdataframe\u001b[0m\u001b[0;34m.\u001b[0m\u001b[0mkeys\u001b[0m\u001b[0;34m(\u001b[0m\u001b[0;34m)\u001b[0m\u001b[0;34m:\u001b[0m\u001b[0;34m\u001b[0m\u001b[0;34m\u001b[0m\u001b[0m\n\u001b[0;32m----> 5\u001b[0;31m     \u001b[0mdataframe\u001b[0m\u001b[0;34m[\u001b[0m\u001b[0myear\u001b[0m\u001b[0;34m]\u001b[0m\u001b[0;34m.\u001b[0m\u001b[0mwrite\u001b[0m\u001b[0;34m.\u001b[0m\u001b[0mformat\u001b[0m\u001b[0;34m(\u001b[0m\u001b[0;34m\"parquet\"\u001b[0m\u001b[0;34m)\u001b[0m\u001b[0;34m.\u001b[0m\u001b[0msave\u001b[0m\u001b[0;34m(\u001b[0m\u001b[0;34mf\"/content/info_from_{year}\"\u001b[0m\u001b[0;34m)\u001b[0m\u001b[0;34m\u001b[0m\u001b[0;34m\u001b[0m\u001b[0m\n\u001b[0m",
            "\u001b[0;32m/usr/local/lib/python3.10/dist-packages/pyspark/sql/readwriter.py\u001b[0m in \u001b[0;36msave\u001b[0;34m(self, path, format, mode, partitionBy, **options)\u001b[0m\n\u001b[1;32m   1461\u001b[0m             \u001b[0mself\u001b[0m\u001b[0;34m.\u001b[0m\u001b[0m_jwrite\u001b[0m\u001b[0;34m.\u001b[0m\u001b[0msave\u001b[0m\u001b[0;34m(\u001b[0m\u001b[0;34m)\u001b[0m\u001b[0;34m\u001b[0m\u001b[0;34m\u001b[0m\u001b[0m\n\u001b[1;32m   1462\u001b[0m         \u001b[0;32melse\u001b[0m\u001b[0;34m:\u001b[0m\u001b[0;34m\u001b[0m\u001b[0;34m\u001b[0m\u001b[0m\n\u001b[0;32m-> 1463\u001b[0;31m             \u001b[0mself\u001b[0m\u001b[0;34m.\u001b[0m\u001b[0m_jwrite\u001b[0m\u001b[0;34m.\u001b[0m\u001b[0msave\u001b[0m\u001b[0;34m(\u001b[0m\u001b[0mpath\u001b[0m\u001b[0;34m)\u001b[0m\u001b[0;34m\u001b[0m\u001b[0;34m\u001b[0m\u001b[0m\n\u001b[0m\u001b[1;32m   1464\u001b[0m \u001b[0;34m\u001b[0m\u001b[0m\n\u001b[1;32m   1465\u001b[0m     \u001b[0;32mdef\u001b[0m \u001b[0minsertInto\u001b[0m\u001b[0;34m(\u001b[0m\u001b[0mself\u001b[0m\u001b[0;34m,\u001b[0m \u001b[0mtableName\u001b[0m\u001b[0;34m:\u001b[0m \u001b[0mstr\u001b[0m\u001b[0;34m,\u001b[0m \u001b[0moverwrite\u001b[0m\u001b[0;34m:\u001b[0m \u001b[0mOptional\u001b[0m\u001b[0;34m[\u001b[0m\u001b[0mbool\u001b[0m\u001b[0;34m]\u001b[0m \u001b[0;34m=\u001b[0m \u001b[0;32mNone\u001b[0m\u001b[0;34m)\u001b[0m \u001b[0;34m->\u001b[0m \u001b[0;32mNone\u001b[0m\u001b[0;34m:\u001b[0m\u001b[0;34m\u001b[0m\u001b[0;34m\u001b[0m\u001b[0m\n",
            "\u001b[0;32m/usr/local/lib/python3.10/dist-packages/py4j/java_gateway.py\u001b[0m in \u001b[0;36m__call__\u001b[0;34m(self, *args)\u001b[0m\n\u001b[1;32m   1320\u001b[0m \u001b[0;34m\u001b[0m\u001b[0m\n\u001b[1;32m   1321\u001b[0m         \u001b[0manswer\u001b[0m \u001b[0;34m=\u001b[0m \u001b[0mself\u001b[0m\u001b[0;34m.\u001b[0m\u001b[0mgateway_client\u001b[0m\u001b[0;34m.\u001b[0m\u001b[0msend_command\u001b[0m\u001b[0;34m(\u001b[0m\u001b[0mcommand\u001b[0m\u001b[0;34m)\u001b[0m\u001b[0;34m\u001b[0m\u001b[0;34m\u001b[0m\u001b[0m\n\u001b[0;32m-> 1322\u001b[0;31m         return_value = get_return_value(\n\u001b[0m\u001b[1;32m   1323\u001b[0m             answer, self.gateway_client, self.target_id, self.name)\n\u001b[1;32m   1324\u001b[0m \u001b[0;34m\u001b[0m\u001b[0m\n",
            "\u001b[0;32m/usr/local/lib/python3.10/dist-packages/pyspark/errors/exceptions/captured.py\u001b[0m in \u001b[0;36mdeco\u001b[0;34m(*a, **kw)\u001b[0m\n\u001b[1;32m    183\u001b[0m                 \u001b[0;31m# Hide where the exception came from that shows a non-Pythonic\u001b[0m\u001b[0;34m\u001b[0m\u001b[0;34m\u001b[0m\u001b[0m\n\u001b[1;32m    184\u001b[0m                 \u001b[0;31m# JVM exception message.\u001b[0m\u001b[0;34m\u001b[0m\u001b[0;34m\u001b[0m\u001b[0m\n\u001b[0;32m--> 185\u001b[0;31m                 \u001b[0;32mraise\u001b[0m \u001b[0mconverted\u001b[0m \u001b[0;32mfrom\u001b[0m \u001b[0;32mNone\u001b[0m\u001b[0;34m\u001b[0m\u001b[0;34m\u001b[0m\u001b[0m\n\u001b[0m\u001b[1;32m    186\u001b[0m             \u001b[0;32melse\u001b[0m\u001b[0;34m:\u001b[0m\u001b[0;34m\u001b[0m\u001b[0;34m\u001b[0m\u001b[0m\n\u001b[1;32m    187\u001b[0m                 \u001b[0;32mraise\u001b[0m\u001b[0;34m\u001b[0m\u001b[0;34m\u001b[0m\u001b[0m\n",
            "\u001b[0;31mAnalysisException\u001b[0m: [PATH_ALREADY_EXISTS] Path file:/content/info_from_2010 already exists. Set mode as \"overwrite\" to overwrite the existing path."
          ]
        }
      ]
    }
  ]
}