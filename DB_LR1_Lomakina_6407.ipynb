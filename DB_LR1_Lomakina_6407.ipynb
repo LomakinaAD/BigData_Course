{
  "cells": [
    {
      "cell_type": "markdown",
      "source": [
        "Install Dependencies:\n",
        "\n",
        "\n",
        "1.   Java 8\n",
        "2.   Apache Spark with hadoop and\n",
        "3.   Findspark (used to locate the spark in the system)"
      ],
      "metadata": {
        "id": "M2t6dfxYnrNm"
      }
    },
    {
      "cell_type": "code",
      "execution_count": null,
      "metadata": {
        "id": "oMUGZXihM-Bn"
      },
      "outputs": [],
      "source": [
        "!apt-get install openjdk-8-jdk-headless -qq > /dev/null\n",
        "!wget -q http://archive.apache.org/dist/spark/spark-3.1.1/spark-3.1.1-bin-hadoop3.2.tgz\n",
        "!tar xf spark-3.1.1-bin-hadoop3.2.tgz"
      ]
    },
    {
      "cell_type": "markdown",
      "source": [
        "Set Environment Variables:"
      ],
      "metadata": {
        "id": "NGoK1y6LnzKU"
      }
    },
    {
      "cell_type": "code",
      "execution_count": null,
      "metadata": {
        "id": "vfUPRwQwF7xx"
      },
      "outputs": [],
      "source": [
        "import os\n",
        "os.environ[\"SPARK_HOME\"] = \"/content/spark-3.1.1-bin-hadoop3.2\"\n",
        "os.environ[\"JAVA_HOME\"] = \"/usr/lib/jvm/java-8-openjdk-amd64\""
      ]
    },
    {
      "cell_type": "code",
      "execution_count": null,
      "metadata": {
        "colab": {
          "base_uri": "https://localhost:8080/"
        },
        "id": "dNsveonvGsod",
        "outputId": "9b7111df-2876-489c-919c-ffa94ae34bcf"
      },
      "outputs": [
        {
          "name": "stdout",
          "output_type": "stream",
          "text": [
            "Collecting findspark\n",
            "  Downloading findspark-2.0.1-py2.py3-none-any.whl (4.4 kB)\n",
            "Installing collected packages: findspark\n",
            "Successfully installed findspark-2.0.1\n"
          ]
        }
      ],
      "source": [
        "!pip install findspark\n",
        "import findspark\n",
        "findspark.init()"
      ]
    },
    {
      "cell_type": "code",
      "execution_count": null,
      "metadata": {
        "colab": {
          "background_save": true,
          "base_uri": "https://localhost:8080/"
        },
        "id": "3ngJ3sL6KKkq",
        "outputId": "d8e75b7b-a445-4771-ecda-90ce56fe8924"
      },
      "outputs": [
        {
          "name": "stdout",
          "output_type": "stream",
          "text": [
            "Collecting pyspark==3.0.0\n",
            "  Downloading pyspark-3.0.0.tar.gz (204.7 MB)\n",
            "\u001b[2K     \u001b[90m━━━━━━━━━━━━━━━━━━━━━━━━━━━━━━━━━━━━━━━━\u001b[0m \u001b[32m204.7/204.7 MB\u001b[0m \u001b[31m1.1 MB/s\u001b[0m eta \u001b[36m0:00:00\u001b[0m\n",
            "\u001b[?25h  Preparing metadata (setup.py) ... \u001b[?25l\u001b[?25hdone\n",
            "Collecting py4j==0.10.9 (from pyspark==3.0.0)\n",
            "  Downloading py4j-0.10.9-py2.py3-none-any.whl (198 kB)\n",
            "\u001b[2K     \u001b[90m━━━━━━━━━━━━━━━━━━━━━━━━━━━━━━━━━━━━━━━━\u001b[0m \u001b[32m198.6/198.6 kB\u001b[0m \u001b[31m1.8 MB/s\u001b[0m eta \u001b[36m0:00:00\u001b[0m\n",
            "\u001b[?25hBuilding wheels for collected packages: pyspark\n",
            "  Building wheel for pyspark (setup.py) ... \u001b[?25l\u001b[?25hdone\n",
            "  Created wheel for pyspark: filename=pyspark-3.0.0-py2.py3-none-any.whl size=205044159 sha256=6a9ca4dbf9ad916c286bf0a4ad707b0bd0e3ca995c8ea4526d8b832dd4d9d309\n",
            "  Stored in directory: /root/.cache/pip/wheels/b1/bb/8b/ca24d3f756f2ed967225b0871898869db676eb5846df5adc56\n",
            "Successfully built pyspark\n",
            "Installing collected packages: py4j, pyspark\n",
            "  Attempting uninstall: py4j\n",
            "    Found existing installation: py4j 0.10.9.7\n",
            "    Uninstalling py4j-0.10.9.7:\n",
            "      Successfully uninstalled py4j-0.10.9.7\n",
            "Successfully installed py4j-0.10.9 pyspark-3.0.0\n"
          ]
        }
      ],
      "source": [
        "!pip3 install pyspark==3.0.0"
      ]
    },
    {
      "cell_type": "code",
      "execution_count": null,
      "metadata": {
        "id": "Q6Mu_GodJPpQ"
      },
      "outputs": [],
      "source": [
        "from pyspark import SparkContext, SparkConf\n",
        "import pyspark.sql as sql\n",
        "from pyspark.sql import SparkSession\n",
        "from pyspark.sql.types import DoubleType\n",
        "from pyspark.sql.functions import udf, col, max, sum, countDistinct"
      ]
    },
    {
      "cell_type": "code",
      "execution_count": null,
      "metadata": {
        "id": "y4FJqAjJLwXX"
      },
      "outputs": [],
      "source": [
        "spark = SparkSession \\\n",
        "    .builder \\\n",
        "    .appName(\"L1_interactive_bike_analysis\") \\\n",
        "    .getOrCreate()"
      ]
    },
    {
      "cell_type": "code",
      "execution_count": null,
      "metadata": {
        "id": "iexpAYsaONcP"
      },
      "outputs": [],
      "source": [
        "import os\n",
        "data_path = os.path.join(os.curdir, \"data\")\n",
        "trips_path = os.path.join(\"trips.csv\")\n",
        "stations_path = os.path.join(\"stations.csv\")"
      ]
    },
    {
      "cell_type": "code",
      "execution_count": null,
      "metadata": {
        "id": "QFXiIwh2SxkG"
      },
      "outputs": [],
      "source": [
        "trips = spark.read \\\n",
        "        .option(\"header\", True) \\\n",
        "        .option(\"inferSchema\", True) \\\n",
        "        .option(\"DateTimeFormat\", 'M/d/y H:m') \\\n",
        "        .csv(trips_path)\n",
        "\n",
        "stat = spark.read \\\n",
        "        .option(\"header\", True) \\\n",
        "        .option(\"inferSchema\", True) \\\n",
        "        .option(\"DateTimeFormat\", 'M/d/y H:m') \\\n",
        "        .csv(stations_path)"
      ]
    },
    {
      "cell_type": "markdown",
      "metadata": {
        "id": "YR1CO3FTqO5h"
      },
      "source": [
        "<a id='Задачи для данных велопарковок Сан-Франциско (trips.csv, stations.csv):'></a>\n",
        "## Задачи для данных велопарковок Сан-Франциско (trips.csv, stations.csv):\n",
        "><li>Найти велосипед с максимальным временем пробега.\n",
        "><li>Найти наибольшее геодезическое расстояние между станциями.\n",
        "><li>Найти путь велосипеда с максимальным временем пробега через станции.\n",
        "><li>Найти количество велосипедов в системе.\n",
        "><li>Найти пользователей потративших на поездки более 3 часов."
      ]
    },
    {
      "cell_type": "markdown",
      "metadata": {
        "id": "bGbIBPLHqVXc"
      },
      "source": [
        "1. Найти велосипед с максимальным временем пробега"
      ]
    },
    {
      "cell_type": "code",
      "execution_count": null,
      "metadata": {
        "colab": {
          "base_uri": "https://localhost:8080/"
        },
        "id": "Zrp8QKhQSGUe",
        "outputId": "066ec5b1-57de-4432-b2f2-e6eaafea2987"
      },
      "outputs": [
        {
          "output_type": "stream",
          "name": "stdout",
          "text": [
            "Велосипед 168 с макс временем 613841\n"
          ]
        }
      ],
      "source": [
        "#Группировка велосипедов по id; подсчет времени пробега для каждого\n",
        "trip_dur = trips.groupBy(\"bike_id\").agg(sum(col(\"duration\")).alias(\"duration\"))\n",
        "#Находим велосипед с максимальным пробегом\n",
        "trips_dur = trip_dur.orderBy(col(\"duration\").desc()).first()\n",
        "bike_id = trips_dur[\"bike_id\"]\n",
        "dur = trips_dur[\"duration\"]\n",
        "print(f\"Велосипед {bike_id} с макс временем {dur}\")"
      ]
    },
    {
      "cell_type": "markdown",
      "metadata": {
        "id": "GIY6f_lZXxUN"
      },
      "source": [
        "2. Найти наибольшее геодезическое расстояние между станциями"
      ]
    },
    {
      "cell_type": "code",
      "execution_count": null,
      "metadata": {
        "colab": {
          "base_uri": "https://localhost:8080/"
        },
        "id": "0Hk98dAoX7SE",
        "outputId": "f43056aa-8831-4a71-b0ab-d3560c9c5bef"
      },
      "outputs": [
        {
          "output_type": "stream",
          "name": "stdout",
          "text": [
            "Наибольшее расстояние: 69.9428256877473\n"
          ]
        }
      ],
      "source": [
        "from math import sqrt, radians, sin, cos, atan2\n",
        "\n",
        "def dist(l1, long1, l2, long2):\n",
        "    R = 6373\n",
        "    l1 = radians(l1)\n",
        "    l2 = radians(l2)\n",
        "\n",
        "    long1 = radians(long1)\n",
        "    long2 = radians(long2)\n",
        "\n",
        "    dist = R * (2 * atan2(sqrt(sin((l2 - l1) / 2)**2 + cos(l1) * cos(l2) * sin((long2 - long1) / 2)**2), sqrt(1 - (sin((l2 - l1) / 2)**2 + cos(l1) * cos(l2) * sin((long2 - long1) / 2)**2))))\n",
        "\n",
        "    return dist\n",
        "\n",
        "\n",
        "geod_dist = udf(dist, DoubleType())\n",
        "#Все пары станций\n",
        "station = stat.alias(\"station1\").crossJoin(stat.alias(\"station2\"))\n",
        "#Расстояние для каждой пары\n",
        "station_distance = station.withColumn(\"geodesic_distance\", geod_dist(col(\"station1.lat\"), col(\"station1.long\"), col(\"station2.lat\"), col(\"station2.long\")))\n",
        "\n",
        "dist = station_distance.selectExpr(\"max(geodesic_distance) as max_distance\").collect()[0][\"max_distance\"]\n",
        "print(f\"Наибольшее расстояние: {dist}\")"
      ]
    },
    {
      "cell_type": "markdown",
      "metadata": {
        "id": "1DW__Qdo8qxp"
      },
      "source": [
        "3. Найти путь велосипеда с максимальным временем пробега через станции"
      ]
    },
    {
      "cell_type": "code",
      "execution_count": null,
      "metadata": {
        "colab": {
          "base_uri": "https://localhost:8080/"
        },
        "id": "OPhndubO8rqr",
        "outputId": "1181f07f-50b9-4c1d-a83b-62db323edc5d"
      },
      "outputs": [
        {
          "output_type": "stream",
          "name": "stdout",
          "text": [
            "Самая длинная поездка: из \"California Ave Caltrain Station\" в \"Palo Alto Caltrain Station\" занимает 597517\n"
          ]
        }
      ],
      "source": [
        "#Поиск наиболее длительной поездки через сортировку\n",
        "dur = trips.select(\"start_station_name\", \"end_station_name\", \"duration\").orderBy(col(\"duration\").desc()).first()\n",
        "\n",
        "one = dur[\"start_station_name\"] #Начальная станция\n",
        "two = dur[\"end_station_name\"] #Конечная станция\n",
        "time = dur[\"duration\"] #Время поездки\n",
        "\n",
        "print(f\"Самая длинная поездка: из \\\"{one}\\\" в \\\"{two}\\\" занимает {time}\")"
      ]
    },
    {
      "cell_type": "markdown",
      "metadata": {
        "id": "BgQUldTyC4-5"
      },
      "source": [
        "4. Найти количество велосипедов в системе"
      ]
    },
    {
      "cell_type": "code",
      "execution_count": null,
      "metadata": {
        "colab": {
          "base_uri": "https://localhost:8080/"
        },
        "id": "7leAyi2bC5hp",
        "outputId": "48e18511-710c-4ac1-b4f0-d9037635fd69"
      },
      "outputs": [
        {
          "output_type": "stream",
          "name": "stdout",
          "text": [
            "Количество велосипедов: 622\n"
          ]
        }
      ],
      "source": [
        "count = trips.agg(countDistinct(\"bike_id\").alias(\"bike_count\")).collect()[0][\"bike_count\"]\n",
        "\n",
        "print(f\"Количество велосипедов: {count}\")"
      ]
    },
    {
      "cell_type": "markdown",
      "metadata": {
        "id": "3ueExUFTC6Pm"
      },
      "source": [
        "5. Найти пользователей потративших на поездки более 3 часов"
      ]
    },
    {
      "cell_type": "code",
      "execution_count": null,
      "metadata": {
        "colab": {
          "base_uri": "https://localhost:8080/"
        },
        "id": "lUblt8BUC6rC",
        "outputId": "ddc612f8-a544-4021-d15f-f57175c0fc14"
      },
      "outputs": [
        {
          "output_type": "stream",
          "name": "stdout",
          "text": [
            "+-------+------+\n",
            "|bike_id|  time|\n",
            "+-------+------+\n",
            "|    471| 83444|\n",
            "|    496|103096|\n",
            "|    148| 99266|\n",
            "|    540|158904|\n",
            "|    392|121202|\n",
            "|    623|207944|\n",
            "|    516| 72546|\n",
            "|    580| 90171|\n",
            "|    137| 44684|\n",
            "|    458|112291|\n",
            "|    588| 85735|\n",
            "|    255| 52279|\n",
            "|     53| 18442|\n",
            "|    481| 70738|\n",
            "|    472| 97185|\n",
            "|    322| 80487|\n",
            "|    513|133817|\n",
            "|    613|266889|\n",
            "|    633|138351|\n",
            "|    321| 88916|\n",
            "+-------+------+\n",
            "only showing top 20 rows\n",
            "\n"
          ]
        }
      ],
      "source": [
        "#Группируем по id и считаем общее время\n",
        "user = trips.groupBy(\"bike_id\").sum(\"duration\").withColumnRenamed(\"sum(duration)\", \"time\")\n",
        "\n",
        "user.filter(\"time>10800\").show()"
      ]
    }
  ],
  "metadata": {
    "colab": {
      "provenance": []
    },
    "kernelspec": {
      "display_name": "Python 3",
      "language": "python",
      "name": "python3"
    },
    "language_info": {
      "codemirror_mode": {
        "name": "ipython",
        "version": 3
      },
      "file_extension": ".py",
      "mimetype": "text/x-python",
      "name": "python",
      "nbconvert_exporter": "python",
      "pygments_lexer": "ipython3",
      "version": "3.6.5"
    }
  },
  "nbformat": 4,
  "nbformat_minor": 0
}